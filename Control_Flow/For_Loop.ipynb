{
 "cells": [
  {
   "cell_type": "markdown",
   "id": "ebe41a55",
   "metadata": {},
   "source": [
    "#### Q1. Write a program to print first 10 even numbers."
   ]
  },
  {
   "cell_type": "code",
   "execution_count": 3,
   "id": "7380f01d",
   "metadata": {},
   "outputs": [
    {
     "name": "stdout",
     "output_type": "stream",
     "text": [
      "2\n",
      "4\n",
      "6\n",
      "8\n",
      "10\n",
      "12\n",
      "14\n",
      "16\n",
      "18\n",
      "20\n"
     ]
    }
   ],
   "source": [
    "for i in range(2,21,2):\n",
    "    print(i)"
   ]
  },
  {
   "cell_type": "markdown",
   "id": "580f70f8",
   "metadata": {},
   "source": [
    "#### Q2. Write a program to print first 10 odd numbers.\n"
   ]
  },
  {
   "cell_type": "code",
   "execution_count": 4,
   "id": "3a12ce10",
   "metadata": {},
   "outputs": [
    {
     "name": "stdout",
     "output_type": "stream",
     "text": [
      "1\n",
      "3\n",
      "5\n",
      "7\n",
      "9\n",
      "11\n",
      "13\n",
      "15\n",
      "17\n",
      "19\n"
     ]
    }
   ],
   "source": [
    "for i in range(1,21,2):\n",
    "    print(i)"
   ]
  },
  {
   "cell_type": "markdown",
   "id": "4ece4a3d",
   "metadata": {},
   "source": [
    "#### Q3. Write a program to print first 10 even numbers in reverse order.\n"
   ]
  },
  {
   "cell_type": "code",
   "execution_count": 3,
   "id": "0ac56fa1",
   "metadata": {},
   "outputs": [
    {
     "name": "stdout",
     "output_type": "stream",
     "text": [
      "21\n",
      "19\n",
      "17\n",
      "15\n",
      "13\n",
      "11\n",
      "9\n",
      "7\n",
      "5\n",
      "3\n"
     ]
    }
   ],
   "source": [
    "for i in range(21,2,-2):\n",
    "    print(i)"
   ]
  },
  {
   "cell_type": "markdown",
   "id": "ecb430b9",
   "metadata": {},
   "source": [
    "#### Q4. Write a program to find the factorial of a number.\n"
   ]
  },
  {
   "cell_type": "code",
   "execution_count": 14,
   "id": "2ac0a0d8",
   "metadata": {},
   "outputs": [
    {
     "name": "stdout",
     "output_type": "stream",
     "text": [
      "Enter the number:6\n",
      "720\n"
     ]
    }
   ],
   "source": [
    "n = int(input(\"Enter the number:\"))\n",
    "f = 1\n",
    "for i in range(1,n+1):\n",
    "    f= f*i\n",
    "print(f)"
   ]
  },
  {
   "cell_type": "markdown",
   "id": "642b6094",
   "metadata": {},
   "source": [
    "#### Q5. Write a program to check whether a number is prime or not.\n"
   ]
  },
  {
   "cell_type": "code",
   "execution_count": 11,
   "id": "94d9245a",
   "metadata": {},
   "outputs": [
    {
     "name": "stdout",
     "output_type": "stream",
     "text": [
      "Enter the number:11\n",
      "11 is prime number.\n"
     ]
    }
   ],
   "source": [
    "a = int(input(\"Enter the number:\"))\n",
    "k = 0\n",
    "if a == 0 or a == 1:\n",
    "    print(\"It is prime number.\")\n",
    "else:\n",
    "    for i in range (2,a):\n",
    "        if a%i != 0:\n",
    "            k += 0\n",
    "if k == 0:\n",
    "    print(a, \"is prime number.\")\n",
    "else:\n",
    "    print(a, \"is not prime number.\")"
   ]
  }
 ],
 "metadata": {
  "kernelspec": {
   "display_name": "Python 3 (ipykernel)",
   "language": "python",
   "name": "python3"
  },
  "language_info": {
   "codemirror_mode": {
    "name": "ipython",
    "version": 3
   },
   "file_extension": ".py",
   "mimetype": "text/x-python",
   "name": "python",
   "nbconvert_exporter": "python",
   "pygments_lexer": "ipython3",
   "version": "3.9.7"
  }
 },
 "nbformat": 4,
 "nbformat_minor": 5
}
