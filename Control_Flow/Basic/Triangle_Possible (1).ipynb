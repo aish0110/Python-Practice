{
 "cells": [
  {
   "cell_type": "markdown",
   "id": "f8a356d6",
   "metadata": {},
   "source": [
    "#### Accept three sides of triangle and check whether the triangle is possible or not.\n",
    "(triangle is possible only when sum of any two sides is greater than 3rd side)\n",
    " "
   ]
  },
  {
   "cell_type": "code",
   "execution_count": 2,
   "id": "4ff4c37d",
   "metadata": {},
   "outputs": [
    {
     "name": "stdout",
     "output_type": "stream",
     "text": [
      "Enter the 1st side:14\n",
      "Enter the 2nd side:14\n",
      "Enter the 3rd side:76\n",
      "Triangle is Possible.\n"
     ]
    }
   ],
   "source": [
    "a = int(input(\"Enter the 1st side:\"))\n",
    "b = int(input(\"Enter the 2nd side:\"))\n",
    "c = int(input(\"Enter the 3rd side:\"))\n",
    "if (a+b)>c or (b+c)>a or (a+c)>b :\n",
    "    print(\"Triangle is Possible.\")\n",
    "else :\n",
    "    print(\"Triangle is not Possible.\")"
   ]
  },
  {
   "cell_type": "code",
   "execution_count": null,
   "id": "b29559cc",
   "metadata": {},
   "outputs": [],
   "source": []
  }
 ],
 "metadata": {
  "kernelspec": {
   "display_name": "Python 3 (ipykernel)",
   "language": "python",
   "name": "python3"
  },
  "language_info": {
   "codemirror_mode": {
    "name": "ipython",
    "version": 3
   },
   "file_extension": ".py",
   "mimetype": "text/x-python",
   "name": "python",
   "nbconvert_exporter": "python",
   "pygments_lexer": "ipython3",
   "version": "3.9.7"
  }
 },
 "nbformat": 4,
 "nbformat_minor": 5
}
