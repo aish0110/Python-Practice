{
 "cells": [
  {
   "cell_type": "markdown",
   "id": "dc0780c1",
   "metadata": {},
   "source": [
    "#### Program to show that the variables with the values assign in the class declaration, are class variable and variable inside method and constructors, are instance variable."
   ]
  },
  {
   "cell_type": "code",
   "execution_count": 7,
   "id": "90eca522",
   "metadata": {},
   "outputs": [
    {
     "name": "stdout",
     "output_type": "stream",
     "text": [
      "obj details:\n",
      "obj is a net_tech\n",
      "name:  Aishwarya\n",
      "gender:  female\n",
      "\n",
      "obj1 details:\n",
      "obj1 is a net_tech\n",
      "name:  krutika\n",
      "gender:  female\n",
      "\n",
      "obj2 details:\n",
      "obj2 is a net_tech\n",
      "name:  dipika\n",
      "gender:  female\n",
      "\n",
      "obj3 details:\n",
      "obj3 is a net_tech\n",
      "name:  sonal\n",
      "gender:  female\n",
      "\n",
      "Accessing class variable using class name\n",
      "net_tech\n"
     ]
    }
   ],
   "source": [
    "# class for net_tech\n",
    "class net_tech:\n",
    "    #class variable\n",
    "    coaching = \"net_tech\"\n",
    "    \n",
    "    # The init method or constructor\n",
    "    def __init__(self, name, gender):\n",
    " \n",
    "         # Instance Variable\n",
    "         self.name = name\n",
    "         self.gender = gender\n",
    " \n",
    "    # Objects of net_tech class\n",
    "obj= net_tech(\"Aishwarya\",\"female\")\n",
    "obj1=net_tech(\"krutika\",\"female\")\n",
    "obj2=net_tech(\"dipika\",\"female\")\n",
    "obj3=net_tech(\"sonal\",\"female\")\n",
    "\n",
    "print('obj details:')\n",
    "print('obj is a',obj.coaching)\n",
    "print('name: ', obj.name)\n",
    "print('gender: ', obj.gender)\n",
    "\n",
    "print('\\nobj1 details:')\n",
    "print('obj1 is a', obj1.coaching)\n",
    "print('name: ', obj1.name)\n",
    "print('gender: ',obj.gender)\n",
    "\n",
    "print('\\nobj2 details:')\n",
    "print('obj2 is a', obj2.coaching)\n",
    "print('name: ',obj2.name)\n",
    "print('gender: ',obj2.gender)\n",
    "\n",
    "print('\\nobj3 details:')\n",
    "print('obj3 is a', obj3.coaching)\n",
    "print('name: ',obj3.name)\n",
    "print('gender: ',obj3.gender)\n",
    "\n",
    "# Class variables can be accessed using class\n",
    "# name also\n",
    "print(\"\\nAccessing class variable using class name\")\n",
    "print(net_tech.coaching)"
   ]
  },
  {
   "cell_type": "code",
   "execution_count": null,
   "id": "78e62c42",
   "metadata": {},
   "outputs": [],
   "source": []
  }
 ],
 "metadata": {
  "kernelspec": {
   "display_name": "Python 3 (ipykernel)",
   "language": "python",
   "name": "python3"
  },
  "language_info": {
   "codemirror_mode": {
    "name": "ipython",
    "version": 3
   },
   "file_extension": ".py",
   "mimetype": "text/x-python",
   "name": "python",
   "nbconvert_exporter": "python",
   "pygments_lexer": "ipython3",
   "version": "3.9.12"
  }
 },
 "nbformat": 4,
 "nbformat_minor": 5
}
