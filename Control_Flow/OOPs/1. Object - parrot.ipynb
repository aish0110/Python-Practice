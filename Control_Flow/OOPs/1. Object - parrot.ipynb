{
 "cells": [
  {
   "cell_type": "markdown",
   "id": "c02ac66e",
   "metadata": {},
   "source": [
    "#### Object - parrot"
   ]
  },
  {
   "cell_type": "code",
   "execution_count": 1,
   "id": "77cdc0cb",
   "metadata": {},
   "outputs": [
    {
     "name": "stdout",
     "output_type": "stream",
     "text": [
      "The Parrot is green in colour and size is medium\n"
     ]
    }
   ],
   "source": [
    "class bird:\n",
    "    \n",
    "    def __init__(self,name,colour):\n",
    "        self.name=name\n",
    "        self.colour=colour\n",
    "    def Bird_size(self,size):\n",
    "        return f\"The {self.name} is {self.colour} in colour and size is {size}\"\n",
    "    \n",
    "birds= bird('Parrot','green')\n",
    "print(birds.Bird_size(\"medium\"))"
   ]
  },
  {
   "cell_type": "code",
   "execution_count": null,
   "id": "41ec4d08",
   "metadata": {},
   "outputs": [],
   "source": []
  }
 ],
 "metadata": {
  "kernelspec": {
   "display_name": "Python 3 (ipykernel)",
   "language": "python",
   "name": "python3"
  },
  "language_info": {
   "codemirror_mode": {
    "name": "ipython",
    "version": 3
   },
   "file_extension": ".py",
   "mimetype": "text/x-python",
   "name": "python",
   "nbconvert_exporter": "python",
   "pygments_lexer": "ipython3",
   "version": "3.9.12"
  }
 },
 "nbformat": 4,
 "nbformat_minor": 5
}
