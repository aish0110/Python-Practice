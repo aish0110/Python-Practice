{
 "cells": [
  {
   "cell_type": "code",
   "execution_count": 10,
   "id": "8812f629",
   "metadata": {},
   "outputs": [
    {
     "name": "stdout",
     "output_type": "stream",
     "text": [
      " The Aishwarya is 25 year old ,she/ he is from Airoli and hobby is Cooking.\n",
      "\n",
      "25\n",
      "Aishwarya\n",
      "Airoli\n",
      "Cooking\n"
     ]
    }
   ],
   "source": [
    "class students:\n",
    "    def __init__(self,name,age,place,hobby):\n",
    "        self.name = name\n",
    "        self._age = age\n",
    "        self._hobby = hobby\n",
    "        self.place = place\n",
    "    def info(self):\n",
    "        return f\" The {self.name} is {self._age} year old ,she/ he is from {self.place} and hobby is {self._hobby}.\\n\"\n",
    "obj=students(\"Aishwarya\",25,\"Airoli\",\"Cooking\")\n",
    "    \n",
    "#accessing private variable via class method \n",
    "print(obj.info())\n",
    "    \n",
    "#accessing private variable directly from outside\n",
    "print(obj._age)\n",
    "print(obj.name)\n",
    "print(obj.place)\n",
    "print(obj._hobby)"
   ]
  },
  {
   "cell_type": "code",
   "execution_count": null,
   "id": "9841d0e2",
   "metadata": {},
   "outputs": [],
   "source": []
  }
 ],
 "metadata": {
  "kernelspec": {
   "display_name": "Python 3 (ipykernel)",
   "language": "python",
   "name": "python3"
  },
  "language_info": {
   "codemirror_mode": {
    "name": "ipython",
    "version": 3
   },
   "file_extension": ".py",
   "mimetype": "text/x-python",
   "name": "python",
   "nbconvert_exporter": "python",
   "pygments_lexer": "ipython3",
   "version": "3.9.12"
  }
 },
 "nbformat": 4,
 "nbformat_minor": 5
}
