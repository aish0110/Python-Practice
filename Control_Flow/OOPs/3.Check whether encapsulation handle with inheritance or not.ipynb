{
 "cells": [
  {
   "cell_type": "markdown",
   "id": "9c25dd00",
   "metadata": {},
   "source": [
    "#### Check whether encapsulation(private variable) handle with inheritance or not"
   ]
  },
  {
   "cell_type": "code",
   "execution_count": 22,
   "id": "36ed13d9",
   "metadata": {},
   "outputs": [
    {
     "name": "stdout",
     "output_type": "stream",
     "text": [
      "The BMW 7-series car gives the mileage of 39.53km/l\n",
      "39.53\n",
      "BMW 7-series\n"
     ]
    }
   ],
   "source": [
    "class Car:\n",
    "    \n",
    "    def __init__(self, name, mileage):\n",
    "        self.__name =name\n",
    "        self.mileage = mileage\n",
    "        \n",
    "    def description(self): \n",
    "        return f\"The {self.__name} car gives the mileage of {self.mileage}km/l\"\n",
    "    \n",
    "class BMW(Car): #child class\n",
    "     pass\n",
    "\n",
    "            \n",
    "obj =BMW(\"BMW 7-series\",39.53)\n",
    "print(obj.description())\n",
    "\n",
    "print(obj.mileage)\n",
    "print(obj._Car__name)    # mangled name\n"
   ]
  }
 ],
 "metadata": {
  "kernelspec": {
   "display_name": "Python 3 (ipykernel)",
   "language": "python",
   "name": "python3"
  },
  "language_info": {
   "codemirror_mode": {
    "name": "ipython",
    "version": 3
   },
   "file_extension": ".py",
   "mimetype": "text/x-python",
   "name": "python",
   "nbconvert_exporter": "python",
   "pygments_lexer": "ipython3",
   "version": "3.9.12"
  }
 },
 "nbformat": 4,
 "nbformat_minor": 5
}
