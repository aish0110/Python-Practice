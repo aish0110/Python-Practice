{
 "cells": [
  {
   "cell_type": "markdown",
   "id": "784c3f2d",
   "metadata": {},
   "source": [
    "#### Define a class attribute color with a default value white. i.e. Every vehicle should be white."
   ]
  },
  {
   "cell_type": "code",
   "execution_count": 23,
   "id": "2cac3768",
   "metadata": {},
   "outputs": [
    {
     "name": "stdout",
     "output_type": "stream",
     "text": [
      "white school volvo\n",
      "white audi\n"
     ]
    },
    {
     "data": {
      "text/plain": [
       "(None, 'speed', 350, 'mileage', 12)"
      ]
     },
     "execution_count": 23,
     "metadata": {},
     "output_type": "execute_result"
    }
   ],
   "source": [
    "class vehicle:\n",
    "    \n",
    "    # class attribute\n",
    "    colour = \"white\"\n",
    "    \n",
    "    def __init__(self,name,max_speed,mileage):\n",
    "        self.name = name\n",
    "        self.max_speed = max_speed\n",
    "        self.mileage = mileage\n",
    "        \n",
    "class bus(vehicle):\n",
    "    pass\n",
    "\n",
    "class car(vehicle):\n",
    "    pass\n",
    "\n",
    "school_bus = bus(\"school volvo\", 210,18)\n",
    "print(school_bus.colour, school_bus.name),\"speed\",school_bus.max_speed,\"mileage\",school_bus.mileage\n",
    "\n",
    "car = car(\"audi\",350,12)\n",
    "print(car.colour,car.name),\"speed\",car.max_speed,\"mileage\",car.mileage"
   ]
  },
  {
   "cell_type": "code",
   "execution_count": null,
   "id": "ceba766d",
   "metadata": {},
   "outputs": [],
   "source": []
  }
 ],
 "metadata": {
  "kernelspec": {
   "display_name": "Python 3 (ipykernel)",
   "language": "python",
   "name": "python3"
  },
  "language_info": {
   "codemirror_mode": {
    "name": "ipython",
    "version": 3
   },
   "file_extension": ".py",
   "mimetype": "text/x-python",
   "name": "python",
   "nbconvert_exporter": "python",
   "pygments_lexer": "ipython3",
   "version": "3.9.12"
  }
 },
 "nbformat": 4,
 "nbformat_minor": 5
}
