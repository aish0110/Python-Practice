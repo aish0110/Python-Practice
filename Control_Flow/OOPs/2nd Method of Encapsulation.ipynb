{
 "cells": [
  {
   "cell_type": "code",
   "execution_count": 4,
   "id": "b0ef1fa4",
   "metadata": {},
   "outputs": [
    {
     "name": "stdout",
     "output_type": "stream",
     "text": [
      " The Aishwarya is 25 year old ,she/ he is from Airoli and hobby is Cooking.\n",
      "\n",
      "25\n"
     ]
    },
    {
     "ename": "AttributeError",
     "evalue": "'students' object has no attribute '__name'",
     "output_type": "error",
     "traceback": [
      "\u001b[1;31m---------------------------------------------------------------------------\u001b[0m",
      "\u001b[1;31mAttributeError\u001b[0m                            Traceback (most recent call last)",
      "Input \u001b[1;32mIn [4]\u001b[0m, in \u001b[0;36m<cell line: 14>\u001b[1;34m()\u001b[0m\n\u001b[0;32m     12\u001b[0m \u001b[38;5;66;03m#accessing private variable directly from outside\u001b[39;00m\n\u001b[0;32m     13\u001b[0m \u001b[38;5;28mprint\u001b[39m(obj\u001b[38;5;241m.\u001b[39mage)\n\u001b[1;32m---> 14\u001b[0m \u001b[38;5;28mprint\u001b[39m(\u001b[43mobj\u001b[49m\u001b[38;5;241;43m.\u001b[39;49m\u001b[43m__name\u001b[49m)\n\u001b[0;32m     15\u001b[0m \u001b[38;5;28mprint\u001b[39m(obj\u001b[38;5;241m.\u001b[39m__place)\n\u001b[0;32m     16\u001b[0m \u001b[38;5;28mprint\u001b[39m(obj\u001b[38;5;241m.\u001b[39mhobby)\n",
      "\u001b[1;31mAttributeError\u001b[0m: 'students' object has no attribute '__name'"
     ]
    }
   ],
   "source": [
    "class students:\n",
    "    def __init__(self,name,age):\n",
    "        self.__name = name\n",
    "        self.age = age\n",
    "    def info(self,__place,hobby):\n",
    "        return f\" The {self.__name} is {self.age} year old ,she/ he is from {__place} and hobby is {hobby}.\\n\"\n",
    "obj=students(\"Aishwarya\",25)\n",
    "    \n",
    "#accessing private variable via class method \n",
    "print(obj.info(\"Airoli\",\"Cooking\"))\n",
    "    \n",
    "#accessing private variable directly from outside\n",
    "print(obj.age)\n",
    "print(obj.__name)\n",
    "print(obj.__place)\n",
    "print(obj.hobby)"
   ]
  }
 ],
 "metadata": {
  "kernelspec": {
   "display_name": "Python 3 (ipykernel)",
   "language": "python",
   "name": "python3"
  },
  "language_info": {
   "codemirror_mode": {
    "name": "ipython",
    "version": 3
   },
   "file_extension": ".py",
   "mimetype": "text/x-python",
   "name": "python",
   "nbconvert_exporter": "python",
   "pygments_lexer": "ipython3",
   "version": "3.9.12"
  }
 },
 "nbformat": 4,
 "nbformat_minor": 5
}
