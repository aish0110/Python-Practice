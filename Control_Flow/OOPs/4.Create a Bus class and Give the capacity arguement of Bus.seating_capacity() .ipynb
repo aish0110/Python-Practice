{
 "cells": [
  {
   "cell_type": "markdown",
   "id": "f41d4b13",
   "metadata": {},
   "source": [
    "#### Create a Bus class that inherits from the vehicle class. Give the capacity arguement of Bus.seating_capacity() a default value of 50."
   ]
  },
  {
   "cell_type": "code",
   "execution_count": 2,
   "id": "491f51ee",
   "metadata": {},
   "outputs": [
    {
     "name": "stdout",
     "output_type": "stream",
     "text": [
      "The school_bus bus gives maximum speed 210 km/h.\n",
      " The capacity of bus seating is only 50 passengers.\n"
     ]
    }
   ],
   "source": [
    "class vehicle:\n",
    "    def __init__(self,name,max_speed):\n",
    "        self.name = name\n",
    "        self.max_speed = max_speed\n",
    "        \n",
    "    def seating_capacity(self,capacity):\n",
    "        return f\"The {self.name} bus gives maximum speed {self.max_speed} km/h.\\n The capacity of bus seating is only {capacity} passengers.\"\n",
    "    \n",
    "class bus (vehicle):\n",
    "    \n",
    "# assign default value to capacity\n",
    "    \n",
    "    def seating_capacity(self,capacity):\n",
    "        return super().seating_capacity(capacity = 50)\n",
    "    \n",
    "obj = bus (\"school_bus\",210)\n",
    "print(obj.seating_capacity(77))"
   ]
  },
  {
   "cell_type": "code",
   "execution_count": null,
   "id": "e5b0e4cd",
   "metadata": {},
   "outputs": [],
   "source": []
  }
 ],
 "metadata": {
  "kernelspec": {
   "display_name": "Python 3 (ipykernel)",
   "language": "python",
   "name": "python3"
  },
  "language_info": {
   "codemirror_mode": {
    "name": "ipython",
    "version": 3
   },
   "file_extension": ".py",
   "mimetype": "text/x-python",
   "name": "python",
   "nbconvert_exporter": "python",
   "pygments_lexer": "ipython3",
   "version": "3.9.12"
  }
 },
 "nbformat": 4,
 "nbformat_minor": 5
}
