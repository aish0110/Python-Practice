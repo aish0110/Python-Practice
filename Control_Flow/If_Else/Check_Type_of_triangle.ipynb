{
 "cells": [
  {
   "cell_type": "markdown",
   "id": "1f23d466",
   "metadata": {},
   "source": [
    "####  Accept three sides of a triangle and check whether it is an equilateral, isosceles or scalene triangle.\n",
    "Note :\n",
    "An equilateral triangle is a triangle in which all three sides are equal.\n",
    "A scalene triangle is a triangle that has three unequal sides.\n",
    "An isosceles triangle is a triangle with (at least) two equal sides."
   ]
  },
  {
   "cell_type": "code",
   "execution_count": 1,
   "id": "640ee984",
   "metadata": {},
   "outputs": [
    {
     "name": "stdout",
     "output_type": "stream",
     "text": [
      "Enter the 1st side:14\n",
      "Enter the 2nd side:14\n",
      "Enter the 3rd side:36\n",
      "Isosceles Tringle.\n"
     ]
    }
   ],
   "source": [
    "a = int(input(\"Enter the 1st side:\"))\n",
    "b = int(input(\"Enter the 2nd side:\"))\n",
    "c = int(input(\"Enter the 3rd side:\"))\n",
    "if a == b and b == c and a == c :\n",
    "    print(\"Equilateral Triangle.\")\n",
    "elif a == b and b != c and a != c:\n",
    "    print(\"Isosceles Tringle.\")\n",
    "else :\n",
    "    print(\"Scalene Triangle.\")"
   ]
  },
  {
   "cell_type": "code",
   "execution_count": null,
   "id": "1c3462f3",
   "metadata": {},
   "outputs": [],
   "source": []
  }
 ],
 "metadata": {
  "kernelspec": {
   "display_name": "Python 3 (ipykernel)",
   "language": "python",
   "name": "python3"
  },
  "language_info": {
   "codemirror_mode": {
    "name": "ipython",
    "version": 3
   },
   "file_extension": ".py",
   "mimetype": "text/x-python",
   "name": "python",
   "nbconvert_exporter": "python",
   "pygments_lexer": "ipython3",
   "version": "3.9.7"
  }
 },
 "nbformat": 4,
 "nbformat_minor": 5
}
