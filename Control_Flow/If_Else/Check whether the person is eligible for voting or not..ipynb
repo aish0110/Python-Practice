{
 "cells": [
  {
   "cell_type": "markdown",
   "id": "4146fc6c",
   "metadata": {},
   "source": [
    "#### Check whether the person is eligible for voting or not."
   ]
  },
  {
   "cell_type": "code",
   "execution_count": 5,
   "id": "eae852d9",
   "metadata": {},
   "outputs": [
    {
     "name": "stdout",
     "output_type": "stream",
     "text": [
      "Age is 17\n",
      "This person is not Eligible for voting.\n"
     ]
    }
   ],
   "source": [
    "age = int(input(\"Age is \"))\n",
    "if age < 18:\n",
    "    print(\"This person is not Eligible for voting.\")\n",
    "else:\n",
    "    print(\"This person is Eligible for voting.\")"
   ]
  },
  {
   "cell_type": "code",
   "execution_count": null,
   "id": "5d7e87fd",
   "metadata": {},
   "outputs": [],
   "source": []
  }
 ],
 "metadata": {
  "kernelspec": {
   "display_name": "Python 3 (ipykernel)",
   "language": "python",
   "name": "python3"
  },
  "language_info": {
   "codemirror_mode": {
    "name": "ipython",
    "version": 3
   },
   "file_extension": ".py",
   "mimetype": "text/x-python",
   "name": "python",
   "nbconvert_exporter": "python",
   "pygments_lexer": "ipython3",
   "version": "3.9.12"
  }
 },
 "nbformat": 4,
 "nbformat_minor": 5
}
