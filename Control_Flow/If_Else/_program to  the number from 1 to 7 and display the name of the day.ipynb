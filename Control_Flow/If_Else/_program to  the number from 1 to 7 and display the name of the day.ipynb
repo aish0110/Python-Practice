{
 "cells": [
  {
   "cell_type": "markdown",
   "id": "72e36412",
   "metadata": {},
   "source": [
    "#### Write a program to accept the number from 1 to 7 and display the name of the day like 1 for sunday,2 for monday and so on."
   ]
  },
  {
   "cell_type": "code",
   "execution_count": 4,
   "id": "46bd3e7c",
   "metadata": {},
   "outputs": [
    {
     "name": "stdout",
     "output_type": "stream",
     "text": [
      "Your number is 4\n",
      "Wednesday\n"
     ]
    }
   ],
   "source": [
    "a = int(input(\"Your number is \"))\n",
    "if a == 1:\n",
    "    print(\"Sunday\")\n",
    "elif a == 2:\n",
    "    print(\"Monday\")\n",
    "elif a == 3:\n",
    "    print(\"Tuesday\")\n",
    "elif a == 4:\n",
    "    print(\"Wednesday\")\n",
    "elif a == 5:\n",
    "    print(\"Thuesday\")\n",
    "elif a == 6:\n",
    "    print(\"Friday\")\n",
    "elif a == 7:\n",
    "    print(\"Saturday\")\n",
    "else:\n",
    "    print(a, \"is invalid number.\")"
   ]
  },
  {
   "cell_type": "code",
   "execution_count": null,
   "id": "d58d7213",
   "metadata": {},
   "outputs": [],
   "source": []
  }
 ],
 "metadata": {
  "kernelspec": {
   "display_name": "Python 3 (ipykernel)",
   "language": "python",
   "name": "python3"
  },
  "language_info": {
   "codemirror_mode": {
    "name": "ipython",
    "version": 3
   },
   "file_extension": ".py",
   "mimetype": "text/x-python",
   "name": "python",
   "nbconvert_exporter": "python",
   "pygments_lexer": "ipython3",
   "version": "3.9.12"
  }
 },
 "nbformat": 4,
 "nbformat_minor": 5
}
