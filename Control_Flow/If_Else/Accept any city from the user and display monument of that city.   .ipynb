{
 "cells": [
  {
   "cell_type": "markdown",
   "id": "33247923",
   "metadata": {},
   "source": [
    "#### Accept any city from the user and display monument of that city.\n",
    "                  City                                 Monument\n",
    "                  Delhi                               Red Fort\n",
    "                  Agra                                Taj Mahal\n",
    "                  Jaipur                              Jal Mahal\n"
   ]
  },
  {
   "cell_type": "code",
   "execution_count": 1,
   "id": "36d8a81b",
   "metadata": {},
   "outputs": [
    {
     "name": "stdout",
     "output_type": "stream",
     "text": [
      "Enter city from Delhi, Agra and Jaipur:Agra\n",
      "Tajhamal is monument in Agra.\n"
     ]
    }
   ],
   "source": [
    "city = str (input(\"Enter city from Delhi, Agra and Jaipur:\"))\n",
    "\n",
    "if city == \"Delhi\" :\n",
    "    print(\"Red fort is monument in Delhi.\")\n",
    "elif city == \"Agra\":\n",
    "    print(\"Tajhamal is monument in Agra.\")\n",
    "elif city == \"Jaipur\":\n",
    "    print(\"Jal Mahal is monument in Jaipur.\")\n",
    "else:\n",
    "    print(\"Invalid syntax.\")"
   ]
  },
  {
   "cell_type": "code",
   "execution_count": null,
   "id": "2af3d277",
   "metadata": {},
   "outputs": [],
   "source": []
  }
 ],
 "metadata": {
  "kernelspec": {
   "display_name": "Python 3 (ipykernel)",
   "language": "python",
   "name": "python3"
  },
  "language_info": {
   "codemirror_mode": {
    "name": "ipython",
    "version": 3
   },
   "file_extension": ".py",
   "mimetype": "text/x-python",
   "name": "python",
   "nbconvert_exporter": "python",
   "pygments_lexer": "ipython3",
   "version": "3.9.12"
  }
 },
 "nbformat": 4,
 "nbformat_minor": 5
}
