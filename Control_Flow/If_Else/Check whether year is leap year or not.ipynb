{
 "cells": [
  {
   "cell_type": "markdown",
   "id": "504efd18",
   "metadata": {},
   "source": [
    "#### Check whether year is leap year or not"
   ]
  },
  {
   "cell_type": "code",
   "execution_count": 3,
   "id": "46e9d58d",
   "metadata": {},
   "outputs": [
    {
     "name": "stdout",
     "output_type": "stream",
     "text": [
      "Enter the year to check whether it is a leap year = 2019\n",
      "It's not a Leap Year\n"
     ]
    }
   ],
   "source": [
    "n = int(input(\"Enter the year to check whether it is a leap year = \"))\n",
    "\n",
    "if n%4==0:\n",
    "    if n%100==0:\n",
    "        if n%400==0:\n",
    "            print(\"It's a Leap Year\")\n",
    "        else:\n",
    "            print(\"It's not a Leap Year\")\n",
    "    else:\n",
    "        print(\"It's a Leap Year\")\n",
    "else:\n",
    "    print(\"It's not a Leap Year\")\n"
   ]
  }
 ],
 "metadata": {
  "kernelspec": {
   "display_name": "Python 3 (ipykernel)",
   "language": "python",
   "name": "python3"
  },
  "language_info": {
   "codemirror_mode": {
    "name": "ipython",
    "version": 3
   },
   "file_extension": ".py",
   "mimetype": "text/x-python",
   "name": "python",
   "nbconvert_exporter": "python",
   "pygments_lexer": "ipython3",
   "version": "3.9.12"
  }
 },
 "nbformat": 4,
 "nbformat_minor": 5
}
