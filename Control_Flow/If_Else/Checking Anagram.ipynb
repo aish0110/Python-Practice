{
 "cells": [
  {
   "cell_type": "markdown",
   "id": "0c8d0ffa",
   "metadata": {},
   "source": [
    "#### Check if two strings are anagram or not. (care = race)"
   ]
  },
  {
   "cell_type": "code",
   "execution_count": 1,
   "id": "5c4409b1",
   "metadata": {},
   "outputs": [
    {
     "name": "stdout",
     "output_type": "stream",
     "text": [
      "listen and silent are anagram.\n"
     ]
    }
   ],
   "source": [
    "str1 = \"listen\"\n",
    "str2 = \"silent\"\n",
    "str1 = str1.lower()\n",
    "str2 = str2.lower()\n",
    "if (len (str1) == len(str2)):\n",
    "    sorted_str1=sorted(str1)\n",
    "    sorted_str2=sorted(str2)\n",
    "    if (sorted_str1==sorted_str2):\n",
    "        print(str1 + \" and \" + str2 + \" are anagram.\")\n",
    "    else:\n",
    "        print(str1 + \" and \" + str2 + \" are not anagram.\")\n",
    "else:\n",
    "    print(str1 + \" and \" + str2 + \" are not anagram.\")\n"
   ]
  },
  {
   "cell_type": "code",
   "execution_count": null,
   "id": "4759e8d1",
   "metadata": {},
   "outputs": [],
   "source": []
  }
 ],
 "metadata": {
  "kernelspec": {
   "display_name": "Python 3 (ipykernel)",
   "language": "python",
   "name": "python3"
  },
  "language_info": {
   "codemirror_mode": {
    "name": "ipython",
    "version": 3
   },
   "file_extension": ".py",
   "mimetype": "text/x-python",
   "name": "python",
   "nbconvert_exporter": "python",
   "pygments_lexer": "ipython3",
   "version": "3.9.7"
  }
 },
 "nbformat": 4,
 "nbformat_minor": 5
}
