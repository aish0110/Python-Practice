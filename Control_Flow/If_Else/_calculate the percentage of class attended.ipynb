{
 "cells": [
  {
   "cell_type": "markdown",
   "id": "8f9fa373",
   "metadata": {},
   "source": [
    "#### 7. Accept the following from the user and calculate the percentage of class attended:        a.     Total number of working days       b.     Total number of days for present After calculating percentage show that, If the percentage is less than 75, than student will not be able to sit in exam.\n"
   ]
  },
  {
   "cell_type": "code",
   "execution_count": 3,
   "id": "5e790c6b",
   "metadata": {},
   "outputs": [
    {
     "name": "stdout",
     "output_type": "stream",
     "text": [
      "Enter the total number of working days:240\n",
      "Enter the total number of days present:211\n",
      "87.91666666666667\n",
      "Student is Eligible.\n"
     ]
    }
   ],
   "source": [
    "a = int(input(\"Enter the total number of working days:\"))\n",
    "b = int(input(\"Enter the total number of days present:\"))\n",
    "c = (b/a) * 100\n",
    "print(c)\n",
    "if c < 75 :\n",
    "    print(\"Student is not Eligible.\")\n",
    "else:\n",
    "    print(\"Student is Eligible.\")"
   ]
  },
  {
   "cell_type": "code",
   "execution_count": null,
   "id": "cea3949b",
   "metadata": {},
   "outputs": [],
   "source": []
  }
 ],
 "metadata": {
  "kernelspec": {
   "display_name": "Python 3 (ipykernel)",
   "language": "python",
   "name": "python3"
  },
  "language_info": {
   "codemirror_mode": {
    "name": "ipython",
    "version": 3
   },
   "file_extension": ".py",
   "mimetype": "text/x-python",
   "name": "python",
   "nbconvert_exporter": "python",
   "pygments_lexer": "ipython3",
   "version": "3.9.12"
  }
 },
 "nbformat": 4,
 "nbformat_minor": 5
}
