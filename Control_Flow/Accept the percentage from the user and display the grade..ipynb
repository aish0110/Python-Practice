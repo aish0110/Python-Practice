{
 "cells": [
  {
   "cell_type": "markdown",
   "id": "e6963f81",
   "metadata": {},
   "source": [
    "### 1. Accept the percentage from the user and display the  grade according to the following criteria:\n",
    "\n",
    "    Below 25 —- D\n",
    "    25 to 45 —- C\n",
    "    45 to 50 —- B\n",
    "    50 to 60 –– B+\n",
    "    60 to 80 —- A\n",
    "    Above 80 –- A+\n"
   ]
  },
  {
   "cell_type": "code",
   "execution_count": 12,
   "id": "ebbc5793",
   "metadata": {},
   "outputs": [
    {
     "name": "stdout",
     "output_type": "stream",
     "text": [
      "Enter physics marks :- 65\n",
      "Enter chemistry marks :- 89\n",
      "Enter biology marks :- 96\n",
      "Enter maths marks :- 36\n",
      "Enter social science marks :- 78\n",
      "Student is getting  72.8 % and will get grade 'A'.\n"
     ]
    }
   ],
   "source": [
    "a=int(input(\"Enter physics marks :- \"))\n",
    "b=int(input(\"Enter chemistry marks :- \"))\n",
    "c=int(input(\"Enter biology marks :- \"))\n",
    "d=int(input(\"Enter maths marks :- \"))\n",
    "e=int(input(\"Enter social science marks :- \"))\n",
    "t=500\n",
    "percent=(a+b+c+d+e)/t*100\n",
    "\n",
    "if a>34 and b>34 and c>34 and d>34 and e>34:\n",
    "    if percent<=25:\n",
    "        print(\"Student is getting \",percent,\"% and will get grade 'D'.\")\n",
    "    elif 25<percent<=45:\n",
    "        print(\"Student is getting \",percent,\"% and will get grade 'C'.\")\n",
    "    elif 45<percent<=50:\n",
    "        print(\"Student is getting \",percent,\"% and will get grade 'B'.\")\n",
    "    elif 50<percent<=60:\n",
    "        print(\"Student is getting \",percent,\"% and will get grade 'B+'.\")\n",
    "    elif 60<percent<=80:\n",
    "        print(\"Student is getting \",percent,\"% and will get grade 'A'.\")\n",
    "    elif 80<percent<=100:\n",
    "        print(\"Student is getting \",percent,\"% and will get grade 'A+'.\")\n",
    "else:\n",
    "    print(\"The student is failing\")\n",
    "          "
   ]
  },
  {
   "cell_type": "code",
   "execution_count": null,
   "id": "0b36999f",
   "metadata": {},
   "outputs": [],
   "source": []
  }
 ],
 "metadata": {
  "kernelspec": {
   "display_name": "Python 3 (ipykernel)",
   "language": "python",
   "name": "python3"
  },
  "language_info": {
   "codemirror_mode": {
    "name": "ipython",
    "version": 3
   },
   "file_extension": ".py",
   "mimetype": "text/x-python",
   "name": "python",
   "nbconvert_exporter": "python",
   "pygments_lexer": "ipython3",
   "version": "3.9.7"
  }
 },
 "nbformat": 4,
 "nbformat_minor": 5
}
