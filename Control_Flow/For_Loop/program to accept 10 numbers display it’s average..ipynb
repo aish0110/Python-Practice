{
 "cells": [
  {
   "cell_type": "markdown",
   "id": "55a90663",
   "metadata": {},
   "source": [
    "#### Write a program to accept 10 numbers from the user and display it’s average."
   ]
  },
  {
   "cell_type": "code",
   "execution_count": 1,
   "id": "a065786a",
   "metadata": {},
   "outputs": [
    {
     "name": "stdout",
     "output_type": "stream",
     "text": [
      "Enter a Number44\n",
      "Enter a Number52\n",
      "Enter a Number78\n",
      "Enter a Number65\n",
      "Enter a Number25\n",
      "Enter a Number36\n",
      "Enter a Number74\n",
      "Enter a Number85\n",
      "Enter a Number15\n",
      "Enter a Number121\n",
      "59.5\n"
     ]
    }
   ],
   "source": [
    "a = 0\n",
    "for i in range (10):\n",
    "  i = int(input(\"Enter a Number\"))\n",
    "  a = a+i\n",
    "  avg = a/10\n",
    "print(avg)"
   ]
  },
  {
   "cell_type": "code",
   "execution_count": null,
   "id": "c0b4ad70",
   "metadata": {},
   "outputs": [],
   "source": []
  }
 ],
 "metadata": {
  "kernelspec": {
   "display_name": "Python 3 (ipykernel)",
   "language": "python",
   "name": "python3"
  },
  "language_info": {
   "codemirror_mode": {
    "name": "ipython",
    "version": 3
   },
   "file_extension": ".py",
   "mimetype": "text/x-python",
   "name": "python",
   "nbconvert_exporter": "python",
   "pygments_lexer": "ipython3",
   "version": "3.9.12"
  }
 },
 "nbformat": 4,
 "nbformat_minor": 5
}
