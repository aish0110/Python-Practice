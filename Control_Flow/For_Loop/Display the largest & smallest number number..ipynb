{
 "cells": [
  {
   "cell_type": "markdown",
   "id": "d947f3c0",
   "metadata": {},
   "source": [
    "#### Write a program to accept 10 numbers from the user and display the largest & smallest number number."
   ]
  },
  {
   "cell_type": "code",
   "execution_count": 2,
   "id": "0f1b9c7a",
   "metadata": {},
   "outputs": [
    {
     "name": "stdout",
     "output_type": "stream",
     "text": [
      "Enter a Number14\n",
      "Enter a Number52\n",
      "Enter a Number74\n",
      "Enter a Number85\n",
      "Enter a Number96\n",
      "Enter a Number98\n",
      "Enter a Number36\n",
      "Enter a Number25\n",
      "Enter a Number55\n",
      "Enter a Number45\n",
      "Max Number 98\n",
      "Min Number 14\n"
     ]
    }
   ],
   "source": [
    "list = []\n",
    "for i in range (10):\n",
    "  i = int(input(\"Enter a Number\"))\n",
    "  list.append(i)\n",
    "print(\"Max Number\",max(list))\n",
    "print(\"Min Number\",min(list))\n"
   ]
  },
  {
   "cell_type": "code",
   "execution_count": null,
   "id": "c16f07e2",
   "metadata": {},
   "outputs": [],
   "source": []
  }
 ],
 "metadata": {
  "kernelspec": {
   "display_name": "Python 3 (ipykernel)",
   "language": "python",
   "name": "python3"
  },
  "language_info": {
   "codemirror_mode": {
    "name": "ipython",
    "version": 3
   },
   "file_extension": ".py",
   "mimetype": "text/x-python",
   "name": "python",
   "nbconvert_exporter": "python",
   "pygments_lexer": "ipython3",
   "version": "3.9.12"
  }
 },
 "nbformat": 4,
 "nbformat_minor": 5
}
