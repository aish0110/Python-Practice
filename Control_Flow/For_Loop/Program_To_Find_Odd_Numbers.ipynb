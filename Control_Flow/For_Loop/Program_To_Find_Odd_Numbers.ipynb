{
 "cells": [
  {
   "cell_type": "markdown",
   "id": "2dce36cb",
   "metadata": {},
   "source": [
    "#### Write a program to print only odd numbers from the given list using for loop. L = [23, 45, 32, 25, 46, 33, 71, 90]"
   ]
  },
  {
   "cell_type": "code",
   "execution_count": 6,
   "id": "af91aab9",
   "metadata": {},
   "outputs": [
    {
     "name": "stdout",
     "output_type": "stream",
     "text": [
      "23\n",
      "45\n",
      "25\n",
      "33\n",
      "71\n"
     ]
    }
   ],
   "source": [
    "l = [23,45,32,25,46,33,71,90]\n",
    "for i in (l):\n",
    "    if i%2 != 0:\n",
    "        print(i)"
   ]
  },
  {
   "cell_type": "code",
   "execution_count": null,
   "id": "26024627",
   "metadata": {},
   "outputs": [],
   "source": []
  }
 ],
 "metadata": {
  "kernelspec": {
   "display_name": "Python 3 (ipykernel)",
   "language": "python",
   "name": "python3"
  },
  "language_info": {
   "codemirror_mode": {
    "name": "ipython",
    "version": 3
   },
   "file_extension": ".py",
   "mimetype": "text/x-python",
   "name": "python",
   "nbconvert_exporter": "python",
   "pygments_lexer": "ipython3",
   "version": "3.9.7"
  }
 },
 "nbformat": 4,
 "nbformat_minor": 5
}
