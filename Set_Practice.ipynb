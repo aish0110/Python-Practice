{
 "cells": [
  {
   "cell_type": "code",
   "execution_count": 1,
   "id": "de97616c",
   "metadata": {},
   "outputs": [
    {
     "name": "stdout",
     "output_type": "stream",
     "text": [
      "{1, 2, 3, 4, 5}\n"
     ]
    }
   ],
   "source": [
    "S={1,2,3,4,5}\n",
    "print(S)"
   ]
  },
  {
   "cell_type": "code",
   "execution_count": 2,
   "id": "92c6c8d8",
   "metadata": {},
   "outputs": [
    {
     "name": "stdout",
     "output_type": "stream",
     "text": [
      "{25, 'Aishwarya', 25.8}\n"
     ]
    }
   ],
   "source": [
    "Set={\"Aishwarya\", 25, 25.8}\n",
    "print(Set)"
   ]
  },
  {
   "cell_type": "code",
   "execution_count": 3,
   "id": "868cbd50",
   "metadata": {},
   "outputs": [
    {
     "name": "stdout",
     "output_type": "stream",
     "text": [
      "{1, 2, 3, 4, 5, 7}\n"
     ]
    }
   ],
   "source": [
    "S1={1,2,3,4,5,3,7,4,2}\n",
    "print(S1)"
   ]
  },
  {
   "cell_type": "code",
   "execution_count": 4,
   "id": "4c78a510",
   "metadata": {},
   "outputs": [
    {
     "name": "stdout",
     "output_type": "stream",
     "text": [
      "{1, 2, 3, 4}\n"
     ]
    }
   ],
   "source": [
    "S= set((1,2,3,4))\n",
    "print(S)"
   ]
  },
  {
   "cell_type": "code",
   "execution_count": 5,
   "id": "5f86442b",
   "metadata": {},
   "outputs": [
    {
     "data": {
      "text/plain": [
       "set"
      ]
     },
     "execution_count": 5,
     "metadata": {},
     "output_type": "execute_result"
    }
   ],
   "source": [
    "type(S)"
   ]
  },
  {
   "cell_type": "code",
   "execution_count": 6,
   "id": "199af160",
   "metadata": {},
   "outputs": [
    {
     "data": {
      "text/plain": [
       "6"
      ]
     },
     "execution_count": 6,
     "metadata": {},
     "output_type": "execute_result"
    }
   ],
   "source": [
    "len(S1)"
   ]
  },
  {
   "cell_type": "code",
   "execution_count": 1,
   "id": "fe2f5117",
   "metadata": {},
   "outputs": [
    {
     "name": "stdout",
     "output_type": "stream",
     "text": [
      "{'orange', 'cherry', 'banana', 'apple'}\n"
     ]
    }
   ],
   "source": [
    "#Add Method\n",
    "Set= {\"apple\",\"banana\",\"cherry\"}\n",
    "Set.add(\"orange\")\n",
    "print(Set)"
   ]
  },
  {
   "cell_type": "code",
   "execution_count": 3,
   "id": "0ed7ce09",
   "metadata": {},
   "outputs": [
    {
     "name": "stdout",
     "output_type": "stream",
     "text": [
      "{'mango', 'cherry', 'banana', 'apple'}\n"
     ]
    }
   ],
   "source": [
    "##Update Method\n",
    "S={\"apple\",\"banana\",\"cherry\"}\n",
    "S.update([\"mango\"])\n",
    "print(S)"
   ]
  },
  {
   "cell_type": "code",
   "execution_count": 4,
   "id": "e391179a",
   "metadata": {},
   "outputs": [
    {
     "name": "stdout",
     "output_type": "stream",
     "text": [
      "{'mango', 'orange', 'banana', 'apple', 'papaya', 'cherry'}\n"
     ]
    }
   ],
   "source": [
    "#Update Method\n",
    "a= {\"apple\",\"banana\",\"cherry\"}\n",
    "b= {\"mango\",\"papaya\",\"orange\"}\n",
    "a.update(b)\n",
    "print(a)"
   ]
  },
  {
   "cell_type": "code",
   "execution_count": 5,
   "id": "e019433d",
   "metadata": {},
   "outputs": [
    {
     "name": "stdout",
     "output_type": "stream",
     "text": [
      "{'orange', 'blue', 'red', 'green', 'black'}\n"
     ]
    }
   ],
   "source": [
    "#Remove Method\n",
    "c={'red','orange','yellow','black','blue','green'}\n",
    "#Remove single item\n",
    "c.remove('yellow')\n",
    "print(c)"
   ]
  },
  {
   "cell_type": "code",
   "execution_count": 6,
   "id": "f9bf851a",
   "metadata": {},
   "outputs": [
    {
     "name": "stdout",
     "output_type": "stream",
     "text": [
      "{'orange', 'blue', 'red', 'green', 'black'}\n"
     ]
    }
   ],
   "source": [
    "#Discard method\n",
    "c.discard('white')\n",
    "print(c)"
   ]
  },
  {
   "cell_type": "code",
   "execution_count": 7,
   "id": "3763755d",
   "metadata": {},
   "outputs": [
    {
     "name": "stdout",
     "output_type": "stream",
     "text": [
      "orange\n"
     ]
    }
   ],
   "source": [
    "#Pop Method\n",
    "#remove any random item from a set\n",
    "deleted_item = c.pop()\n",
    "print(deleted_item)"
   ]
  },
  {
   "cell_type": "code",
   "execution_count": 8,
   "id": "01046552",
   "metadata": {},
   "outputs": [
    {
     "name": "stdout",
     "output_type": "stream",
     "text": [
      "set()\n"
     ]
    }
   ],
   "source": [
    "#Remove all Methods\n",
    "c.clear()\n",
    "print(c)"
   ]
  },
  {
   "cell_type": "code",
   "execution_count": 11,
   "id": "9dc580fc",
   "metadata": {},
   "outputs": [
    {
     "name": "stdout",
     "output_type": "stream",
     "text": [
      "{'yellow', 'orange', 'white', 'blue', 'red', 'green', 'black'}\n"
     ]
    }
   ],
   "source": [
    "c={'red','orange','yellow','black','blue','green','white'}\n",
    "print(c)"
   ]
  },
  {
   "cell_type": "code",
   "execution_count": 12,
   "id": "2f467393",
   "metadata": {},
   "outputs": [
    {
     "name": "stdout",
     "output_type": "stream",
     "text": [
      "{'yellow', 'indigo', 'orange', 'blue', 'red', 'green', 'violet'}\n"
     ]
    }
   ],
   "source": [
    "#SET OPERATIONS\n",
    "#Union\n",
    "C_set = {'violet','indigo','blue','green','yellow'}\n",
    "remaining_colours = {'indigo','orange','red'}\n",
    "\n",
    "#Union of two set using OR operator\n",
    "vibgyor_colours = C_set | remaining_colours\n",
    "print(vibgyor_colours)"
   ]
  },
  {
   "cell_type": "code",
   "execution_count": 13,
   "id": "9550c459",
   "metadata": {},
   "outputs": [
    {
     "name": "stdout",
     "output_type": "stream",
     "text": [
      "{'yellow', 'indigo', 'orange', 'blue', 'red', 'green', 'violet'}\n"
     ]
    }
   ],
   "source": [
    "vibgyor_colours = C_set.union(remaining_colours)\n",
    "print(vibgyor_colours)"
   ]
  },
  {
   "cell_type": "code",
   "execution_count": 15,
   "id": "e5576a66",
   "metadata": {},
   "outputs": [
    {
     "name": "stdout",
     "output_type": "stream",
     "text": [
      "{'indigo'}\n"
     ]
    }
   ],
   "source": [
    "#Intersection\n",
    "C_set = {'violet','indigo','blue','green','yellow'}\n",
    "remaining_colours = {'indigo','orange','red'}\n",
    "\n",
    "# intersection of two set & operator\n",
    "new_set = C_set & remaining_colours\n",
    "print(new_set)"
   ]
  },
  {
   "cell_type": "code",
   "execution_count": 17,
   "id": "cd5db015",
   "metadata": {},
   "outputs": [
    {
     "name": "stdout",
     "output_type": "stream",
     "text": [
      "{'yellow', 'green', 'violet', 'blue'}\n",
      "{'yellow', 'green', 'violet', 'blue'}\n",
      "{'yellow', 'green', 'violet', 'blue'}\n"
     ]
    }
   ],
   "source": [
    "C_set = {'violet','indigo','blue','green','yellow'}\n",
    "remaining_colours = {'indigo','orange','red'}\n",
    "\n",
    "#difference using '-' operator\n",
    "print(C_set - remaining_colours)\n",
    "\n",
    "#using difference()Method\n",
    "print(C_set - remaining_colours)\n",
    "\n",
    "print(C_set.difference(remaining_colours))\n"
   ]
  },
  {
   "cell_type": "code",
   "execution_count": 21,
   "id": "52fcbba7",
   "metadata": {},
   "outputs": [
    {
     "name": "stdout",
     "output_type": "stream",
     "text": [
      "{'yellow', 'blue', 'red', 'green', 'orange', 'violet'}\n",
      "{'yellow', 'blue', 'red', 'green', 'orange', 'violet'}\n"
     ]
    }
   ],
   "source": [
    "#Symmetric difference\n",
    "C_set = {'violet','indigo','blue','green','yellow'}\n",
    "remaining_colours = {'indigo','orange','red'}\n",
    "\n",
    "#Symmetric difference between using ^ operator\n",
    "unique_item = C_set ^ remaining_colours\n",
    "print(unique_item)\n",
    "\n",
    "#Using symmetric_difference()\n",
    "unique_item = C_set.symmetric_difference(remaining_colours)\n",
    "print(unique_item)"
   ]
  },
  {
   "cell_type": "code",
   "execution_count": 22,
   "id": "b7c27672",
   "metadata": {},
   "outputs": [
    {
     "name": "stdout",
     "output_type": "stream",
     "text": [
      "True\n",
      "False\n"
     ]
    }
   ],
   "source": [
    "C_S1 = {\"violet\",\"indigo\",\"blue\",\"green\",\"yellow\",\"orange\",\"red\"}\n",
    "C_S2 = {\"indigo\",\"orange\",\"red\"}\n",
    "\n",
    "#Subset\n",
    "print(C_S2.issubset(C_S1))\n",
    "print(C_S1.issubset(C_S2))"
   ]
  },
  {
   "cell_type": "code",
   "execution_count": 24,
   "id": "7691d8f3",
   "metadata": {},
   "outputs": [
    {
     "name": "stdout",
     "output_type": "stream",
     "text": [
      "False\n",
      "True\n"
     ]
    }
   ],
   "source": [
    "a = {'violet','yellow','red'}\n",
    "b = {'orange','red'}\n",
    "c = {'green','orange'}\n",
    "\n",
    "#Disjoint\n",
    "print(b.isdisjoint(a))\n",
    "#Output \"false\" because contains \"red\" as a common item\n",
    "\n",
    "print(c.isdisjoint(a))"
   ]
  },
  {
   "cell_type": "code",
   "execution_count": 28,
   "id": "574851f0",
   "metadata": {},
   "outputs": [
    {
     "name": "stdout",
     "output_type": "stream",
     "text": [
      "all() with all true values: True\n",
      "any() with all true values: True\n",
      "\n",
      "all() with all true values: False\n",
      "any() with all true values: True\n",
      "\n",
      "all() with all true values: True\n",
      "any() with all true values: True\n",
      "\n",
      "all() with all true values: False\n",
      "any() with all true values: True\n",
      "\n",
      "all() with all true values: False\n",
      "any() with all true values: False\n"
     ]
    }
   ],
   "source": [
    "set1 = {1,2,3,4}\n",
    "set2 = {0,2,4,6,8}\n",
    "set3 = {True, True}\n",
    "set4 = {True, False}\n",
    "set5 = {False, 0}\n",
    "\n",
    "#Checking all true value set\n",
    "print(\"all() with all true values:\" , all (set1))\n",
    "print(\"any() with all true values:\" , any (set1))\n",
    "print()\n",
    "print(\"all() with all true values:\" , all (set2))\n",
    "print(\"any() with all true values:\" , any (set2))\n",
    "print()\n",
    "print(\"all() with all true values:\" , all (set3))\n",
    "print(\"any() with all true values:\" , any (set3))\n",
    "print()\n",
    "print(\"all() with all true values:\" , all (set4))\n",
    "print(\"any() with all true values:\" , any (set4))\n",
    "print()\n",
    "print(\"all() with all true values:\" , all (set5))\n",
    "print(\"any() with all true values:\" , any (set5))"
   ]
  },
  {
   "cell_type": "code",
   "execution_count": 30,
   "id": "2eb56e23",
   "metadata": {},
   "outputs": [
    {
     "name": "stdout",
     "output_type": "stream",
     "text": [
      "15\n",
      "\n",
      "abc\n"
     ]
    }
   ],
   "source": [
    "S1 = {2,4,6,10,8,15}\n",
    "S2 = {\"ABC\", \"abc\"}\n",
    "\n",
    "#Max item from integer set\n",
    "print(max(S1))\n",
    "print()\n",
    "#Max item from string set\n",
    "print(max(S2))"
   ]
  },
  {
   "cell_type": "code",
   "execution_count": 31,
   "id": "85bed538",
   "metadata": {},
   "outputs": [
    {
     "name": "stdout",
     "output_type": "stream",
     "text": [
      "2\n",
      "\n",
      "ABC\n"
     ]
    }
   ],
   "source": [
    "#Min item from integer set\n",
    "print(min(S1))\n",
    "print()\n",
    "print(min(S2))"
   ]
  },
  {
   "cell_type": "code",
   "execution_count": null,
   "id": "1f93860b",
   "metadata": {},
   "outputs": [],
   "source": []
  }
 ],
 "metadata": {
  "kernelspec": {
   "display_name": "Python 3 (ipykernel)",
   "language": "python",
   "name": "python3"
  },
  "language_info": {
   "codemirror_mode": {
    "name": "ipython",
    "version": 3
   },
   "file_extension": ".py",
   "mimetype": "text/x-python",
   "name": "python",
   "nbconvert_exporter": "python",
   "pygments_lexer": "ipython3",
   "version": "3.9.7"
  }
 },
 "nbformat": 4,
 "nbformat_minor": 5
}
