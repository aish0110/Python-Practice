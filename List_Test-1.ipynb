{
 "cells": [
  {
   "cell_type": "code",
   "execution_count": 1,
   "id": "d592643b",
   "metadata": {},
   "outputs": [
    {
     "name": "stdout",
     "output_type": "stream",
     "text": [
      "['Aishwarya', '25', 'Science', 'Airoli']\n",
      "('Aishwarya', '25', 'Science', 'Airoli')\n"
     ]
    }
   ],
   "source": [
    "#1 Create list of your name,age, field ,location using [] and list constructor\n",
    "name=\"Aishwarya\"\n",
    "age=\"25\"\n",
    "field=\"Science\"\n",
    "location=\"Airoli\"\n",
    "List1=[name,age,field,location]\n",
    "List2=((name,age,field,location))\n",
    "print(List1)\n",
    "print(List2)"
   ]
  },
  {
   "cell_type": "code",
   "execution_count": 5,
   "id": "2e573244",
   "metadata": {},
   "outputs": [
    {
     "name": "stdout",
     "output_type": "stream",
     "text": [
      "Science\n"
     ]
    }
   ],
   "source": [
    "#2 print only your field using index method \n",
    "name=\"Aishwarya\"\n",
    "age=\"25\"\n",
    "field=\"Science\"\n",
    "location=\"Airoli\"\n",
    "List1=[name,age,field,location]\n",
    "print(field)"
   ]
  },
  {
   "cell_type": "code",
   "execution_count": 6,
   "id": "68ba6a54",
   "metadata": {},
   "outputs": [
    {
     "name": "stdout",
     "output_type": "stream",
     "text": [
      "['Aishwarya', '25', 'Science', 'Airoli']\n"
     ]
    },
    {
     "data": {
      "text/plain": [
       "3"
      ]
     },
     "execution_count": 6,
     "metadata": {},
     "output_type": "execute_result"
    }
   ],
   "source": [
    "#3 print the position of location element\n",
    "\n",
    "name=\"Aishwarya\"\n",
    "age=\"25\"\n",
    "field=\"Science\"\n",
    "location=\"Airoli\"\n",
    "List1=[name,age,field,location]\n",
    "print(List1)\n",
    "List1.index(location)"
   ]
  },
  {
   "cell_type": "code",
   "execution_count": 7,
   "id": "1312aa10",
   "metadata": {},
   "outputs": [
    {
     "name": "stdout",
     "output_type": "stream",
     "text": [
      "['Aishwarya', '25', 'Science', 'Airoli']\n",
      "['Science']\n"
     ]
    }
   ],
   "source": [
    "#4 print element btw age and locaton ,using forward and backward indexing\n",
    "\n",
    "name=\"Aishwarya\"\n",
    "age=\"25\"\n",
    "field=\"Science\"\n",
    "location=\"Airoli\"\n",
    "List1=[name,age,field,location]\n",
    "print(List1)\n",
    "print(List1[2:3:1])"
   ]
  },
  {
   "cell_type": "code",
   "execution_count": 8,
   "id": "f57888b4",
   "metadata": {},
   "outputs": [
    {
     "name": "stdout",
     "output_type": "stream",
     "text": [
      "['Fegade', '25', 'Scienc', 'Airoli']\n"
     ]
    }
   ],
   "source": [
    "#5 replace the element of name with surname\n",
    "\n",
    "name=\"Aishwarya\"\n",
    "age=\"25\"\n",
    "field=\"Scienc\"\n",
    "location=\"Airoli\"\n",
    "surname=\"Fegade\"\n",
    "List1=[name,age,field,location]\n",
    "List1[0] = \"Fegade\"\n",
    "print(List1)"
   ]
  },
  {
   "cell_type": "code",
   "execution_count": 9,
   "id": "956003f0",
   "metadata": {},
   "outputs": [
    {
     "name": "stdout",
     "output_type": "stream",
     "text": [
      "['Fegade', 'Blue', 'Sunshine', 'Airoli']\n"
     ]
    }
   ],
   "source": [
    "#6 replace the element of name ,age and field\n",
    "\n",
    "name=\"Aishwarya\"\n",
    "age=\"25\"\n",
    "field=\"Science\"\n",
    "location=\"Airoli\"\n",
    "surname=\"Fegade\"\n",
    "List1=[name,age,field,location]\n",
    "List1[0]=\"Fegade\"\n",
    "List1[1]=\"Blue\"\n",
    "List1[2]=\"Sunshine\"\n",
    "print(List1)"
   ]
  },
  {
   "cell_type": "code",
   "execution_count": 10,
   "id": "8fc46842",
   "metadata": {},
   "outputs": [
    {
     "name": "stdout",
     "output_type": "stream",
     "text": [
      "['Fegade', 'Science', 'Airoli']\n"
     ]
    }
   ],
   "source": [
    "#7 replace the element of name,age with only surname\n",
    "\n",
    "List=[\"Aishwarya\", 25,\"Science\",\"Airoli\"]\n",
    "List[0:2]=[\"Fegade\"]\n",
    "print(List)"
   ]
  },
  {
   "cell_type": "code",
   "execution_count": 12,
   "id": "a31b4f32",
   "metadata": {},
   "outputs": [
    {
     "name": "stdout",
     "output_type": "stream",
     "text": [
      "[['Rinku', 'Fegade'], 25, 'Science', 'Airoli']\n"
     ]
    }
   ],
   "source": [
    "#8 replace the element of name with your nickname and surname'\n",
    "\n",
    "List=[\"Aishwarya\", 25,\"Science\",\"Airoli\"]\n",
    "List[0]=[\"Rinku\", \"Fegade\"]\n",
    "print(List)"
   ]
  },
  {
   "cell_type": "code",
   "execution_count": null,
   "id": "0bf423fe",
   "metadata": {},
   "outputs": [],
   "source": []
  }
 ],
 "metadata": {
  "kernelspec": {
   "display_name": "Python 3 (ipykernel)",
   "language": "python",
   "name": "python3"
  },
  "language_info": {
   "codemirror_mode": {
    "name": "ipython",
    "version": 3
   },
   "file_extension": ".py",
   "mimetype": "text/x-python",
   "name": "python",
   "nbconvert_exporter": "python",
   "pygments_lexer": "ipython3",
   "version": "3.9.7"
  }
 },
 "nbformat": 4,
 "nbformat_minor": 5
}
