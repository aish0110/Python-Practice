{
 "cells": [
  {
   "cell_type": "markdown",
   "id": "8d1467f4",
   "metadata": {},
   "source": [
    "#### 1. Make new list from two existing list which contain duplicate values,  \n",
    "\toutput should be unique."
   ]
  },
  {
   "cell_type": "code",
   "execution_count": 1,
   "id": "2205373e",
   "metadata": {},
   "outputs": [
    {
     "name": "stdout",
     "output_type": "stream",
     "text": [
      "[1, 2, 3, 5, 6, 7, 8, 9]\n"
     ]
    }
   ],
   "source": [
    "a = [1,2,3,2]\n",
    "b = [9,8,7,6,5,8]\n",
    "a = set((1,2,3,2))\n",
    "b = set((9,8,7,6,5,8))\n",
    "c = a|b\n",
    "c = list((a|b))\n",
    "print(c)"
   ]
  },
  {
   "cell_type": "markdown",
   "id": "ef6d832c",
   "metadata": {},
   "source": [
    "#### 2. Find unique tuple from existing tuple which contains lot of duplicate values.\n"
   ]
  },
  {
   "cell_type": "code",
   "execution_count": 2,
   "id": "8c478f7d",
   "metadata": {},
   "outputs": [
    {
     "name": "stdout",
     "output_type": "stream",
     "text": [
      "(35, 55, 40, 25, 45)\n"
     ]
    }
   ],
   "source": [
    "a = (25,25,40,25)\n",
    "b = (25,35,45,55)\n",
    "a = set((25,25,40,25))\n",
    "b = set((25,35,45,55))\n",
    "c = a|b\n",
    "c = tuple((a|b))\n",
    "print(c)"
   ]
  },
  {
   "cell_type": "code",
   "execution_count": null,
   "id": "cf977905",
   "metadata": {},
   "outputs": [],
   "source": []
  }
 ],
 "metadata": {
  "kernelspec": {
   "display_name": "Python 3 (ipykernel)",
   "language": "python",
   "name": "python3"
  },
  "language_info": {
   "codemirror_mode": {
    "name": "ipython",
    "version": 3
   },
   "file_extension": ".py",
   "mimetype": "text/x-python",
   "name": "python",
   "nbconvert_exporter": "python",
   "pygments_lexer": "ipython3",
   "version": "3.9.7"
  }
 },
 "nbformat": 4,
 "nbformat_minor": 5
}
