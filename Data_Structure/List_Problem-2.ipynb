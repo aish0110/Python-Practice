{
 "cells": [
  {
   "cell_type": "code",
   "execution_count": 1,
   "id": "5d7cccdc",
   "metadata": {},
   "outputs": [
    {
     "name": "stdout",
     "output_type": "stream",
     "text": [
      "['apple', 'mango', 'banana']\n",
      "['apple', 'mango', 'banana', 'grapes']\n",
      "['apple', 'mango', 'banana', 'grapes']\n"
     ]
    }
   ],
   "source": [
    "# make a deep copy of list and check whether it is copying deeply or not\n",
    "\n",
    "List=[\"apple\",\"mango\",\"banana\"]\n",
    "List1=List\n",
    "print(List1)\n",
    "#checking whether it is deeply copied\n",
    "\n",
    "List.append(\"grapes\")\n",
    "print(List)\n",
    "print(List1)"
   ]
  },
  {
   "cell_type": "code",
   "execution_count": 2,
   "id": "6b233d0d",
   "metadata": {},
   "outputs": [
    {
     "name": "stdout",
     "output_type": "stream",
     "text": [
      "['orange', 'mango', 'banana']\n",
      "['orange', 'mango', 'banana', 'apple']\n",
      "['orange', 'mango', 'banana']\n"
     ]
    }
   ],
   "source": [
    "# make a copy of list in that way  making changes in one list will not affect to the another list\n",
    "\n",
    "List=[\"orange\",\"mango\",\"banana\"]\n",
    "List1=List.copy()\n",
    "print(List1)\n",
    "\n",
    "#checking whether the orignal list is not affected\n",
    "\n",
    "List.append(\"apple\")\n",
    "print(List)\n",
    "print(List1)"
   ]
  },
  {
   "cell_type": "code",
   "execution_count": 3,
   "id": "0be8493a",
   "metadata": {},
   "outputs": [
    {
     "name": "stdout",
     "output_type": "stream",
     "text": [
      "['Aishwarya', 'Gaurav', 'Vaibhavi', 'Rohan', 'Ojaswi']\n",
      "['Aishwarya', 'Gaurav', 'Vaibhavi', 'Rohan']\n",
      "['Aishwarya', 'Gaurav', 'Vaibhavi']\n",
      "['Aishwarya', 'Gaurav', 'Vaibhavi', 'Rohan', 'Ojaswi']\n",
      "['Gaurav', 'Vaibhavi', 'Rohan', 'Ojaswi']\n",
      "['Vaibhavi', 'Rohan', 'Ojaswi']\n"
     ]
    }
   ],
   "source": [
    "# Take any example to  explain stack and queue\n",
    "\n",
    "List =[\"Aishwarya\",\"Gaurav\",\"Vaibhavi\"]\n",
    "\n",
    "#Stack works on the pricipal of last in first out. Now, we are adding elements in list.\n",
    "\n",
    "List.append(\"Rohan\")\n",
    "List.append(\"Ojaswi\")\n",
    "print(List)\n",
    "\n",
    "#Now will take one by one element out by pop method\n",
    "\n",
    "List.pop()\n",
    "print(List)\n",
    "\n",
    "#One element from last is removed\n",
    "\n",
    "List.pop()\n",
    "print(List)\n",
    "\n",
    "#One more element from last is removed\n",
    "\n",
    "#Now will see queue working\n",
    "\n",
    "List=[\"Aishwarya\",\"Gaurav\",\"Vaibhavi\"]\n",
    "\n",
    "#Queue works on the pricipal of first in first out. Now, we are adding elements in list.\n",
    "\n",
    "List.append(\"Rohan\")\n",
    "List.append(\"Ojaswi\")\n",
    "print(List)\n",
    "\n",
    "#Now will take one by one element out by pop method\n",
    "\n",
    "List.pop(0)\n",
    "print(List)\n",
    "\n",
    "List.pop(0)\n",
    "print(List)"
   ]
  },
  {
   "cell_type": "code",
   "execution_count": 5,
   "id": "a563e7ae",
   "metadata": {},
   "outputs": [
    {
     "name": "stdout",
     "output_type": "stream",
     "text": [
      "[(1, 'Aishwarya', 25, 1), (2, 'Gaurav', 28, 2), (3, 'Vaibhavi', 26, 3), (4, 'Rohan', 22, 4)]\n"
     ]
    }
   ],
   "source": [
    "# zip four list contain with natural number your name,age, rollno\n",
    "\n",
    "natural_num=[1,2,3,4]\n",
    "name=[\"Aishwarya\",\"Gaurav\",\"Vaibhavi\",\"Rohan\"]\n",
    "age=[25,28,26,22]\n",
    "roll_no=[1,2,3,4]\n",
    "\n",
    "Data=zip(natural_num, name,age,roll_no)\n",
    "Data=list(Data)\n",
    "print(Data)\n"
   ]
  },
  {
   "cell_type": "code",
   "execution_count": 6,
   "id": "5449d5ef",
   "metadata": {},
   "outputs": [
    {
     "name": "stdout",
     "output_type": "stream",
     "text": [
      "(1, 2, 3, 4)\n",
      "('Aishwarya', 'Gaurav', 'Vaibhavi', 'Rohan')\n",
      "(25, 28, 26, 22)\n",
      "(1, 2, 3, 4)\n"
     ]
    }
   ],
   "source": [
    "# unzip the above list\n",
    "\n",
    "natural_num,name,age,roll_no=zip(*Data)\n",
    "print(natural_num)\n",
    "print(name)\n",
    "print(age)\n",
    "print(roll_no)"
   ]
  },
  {
   "cell_type": "code",
   "execution_count": null,
   "id": "fb623aaa",
   "metadata": {},
   "outputs": [],
   "source": []
  }
 ],
 "metadata": {
  "kernelspec": {
   "display_name": "Python 3 (ipykernel)",
   "language": "python",
   "name": "python3"
  },
  "language_info": {
   "codemirror_mode": {
    "name": "ipython",
    "version": 3
   },
   "file_extension": ".py",
   "mimetype": "text/x-python",
   "name": "python",
   "nbconvert_exporter": "python",
   "pygments_lexer": "ipython3",
   "version": "3.9.7"
  }
 },
 "nbformat": 4,
 "nbformat_minor": 5
}
