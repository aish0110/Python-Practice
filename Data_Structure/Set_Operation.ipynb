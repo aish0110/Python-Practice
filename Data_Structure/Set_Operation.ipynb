{
 "cells": [
  {
   "cell_type": "markdown",
   "id": "c208b7c5",
   "metadata": {},
   "source": [
    "####  A = [1,2,3,4,5]\n",
    "    B = [1,6,7,8]\n",
    "    C = [8,9,10]\n",
    "\n",
    " Expected output : [1,2,3,4,5,6,7,8,9,10] & [8,1]\n",
    "\t "
   ]
  },
  {
   "cell_type": "code",
   "execution_count": 11,
   "id": "a508c3f1",
   "metadata": {},
   "outputs": [
    {
     "name": "stdout",
     "output_type": "stream",
     "text": [
      "[1, 2, 3, 4, 5, 6, 7, 8, 9, 10]\n",
      "[8, 1]\n"
     ]
    }
   ],
   "source": [
    "A = [1,2,3,4,5]\n",
    "set1 = set((A))\n",
    "\n",
    "B = [1,6,7,8]\n",
    "set2 = set((B))\n",
    "\n",
    "C = [8,9,10]\n",
    "set3 = set((8,9,10))\n",
    "\n",
    "set4 = set1 | set2 |set3\n",
    "\n",
    "#intersection \n",
    "\n",
    "set5 = set1 & set2\n",
    "\n",
    "set6 = set2 & set3\n",
    "\n",
    "set7 = set6 |set5\n",
    "\n",
    "#Converted\n",
    "\n",
    "list1 = list((set4))\n",
    "print(list1)\n",
    "\n",
    "list2 = list((set7))\n",
    "print(list2)"
   ]
  },
  {
   "cell_type": "code",
   "execution_count": null,
   "id": "2b238219",
   "metadata": {},
   "outputs": [],
   "source": []
  }
 ],
 "metadata": {
  "kernelspec": {
   "display_name": "Python 3 (ipykernel)",
   "language": "python",
   "name": "python3"
  },
  "language_info": {
   "codemirror_mode": {
    "name": "ipython",
    "version": 3
   },
   "file_extension": ".py",
   "mimetype": "text/x-python",
   "name": "python",
   "nbconvert_exporter": "python",
   "pygments_lexer": "ipython3",
   "version": "3.9.7"
  }
 },
 "nbformat": 4,
 "nbformat_minor": 5
}
