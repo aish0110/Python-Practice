{
 "cells": [
  {
   "cell_type": "code",
   "execution_count": 1,
   "id": "5f04f390",
   "metadata": {},
   "outputs": [
    {
     "name": "stdout",
     "output_type": "stream",
     "text": [
      "['Aishwarya', 'Fegade', 25, 'Science', 'Airoli']\n"
     ]
    }
   ],
   "source": [
    "# add your surname in the list after your first name\n",
    "\n",
    "List=[\"Aishwarya\", 25,\"Science\",\"Airoli\"]\n",
    "List.insert(1,\"Fegade\")\n",
    "print(List)"
   ]
  },
  {
   "cell_type": "code",
   "execution_count": 2,
   "id": "3faa030c",
   "metadata": {},
   "outputs": [
    {
     "name": "stdout",
     "output_type": "stream",
     "text": [
      "['Aishwarya', 25, 'Science', 'Airoli', 'Playing outdoor Games']\n"
     ]
    }
   ],
   "source": [
    "# add your only one hobby at the end of the list\n",
    "\n",
    "List=[\"Aishwarya\", 25,\"Science\",\"Airoli\"]\n",
    "List.append(\"Playing outdoor Games\")\n",
    "print(List)"
   ]
  },
  {
   "cell_type": "code",
   "execution_count": 3,
   "id": "f3b5567b",
   "metadata": {},
   "outputs": [
    {
     "name": "stdout",
     "output_type": "stream",
     "text": [
      "['Aishwarya', 25, 'Science', 'Airoli', ['Trekking', 'Playing outdoor Games']]\n"
     ]
    }
   ],
   "source": [
    "# add your n-numbers of hobbies at the end of list\n",
    "\n",
    "List1=[\"Aishwarya\", 25,\"Science\",\"Airoli\"]\n",
    "List2=[\"Trekking\", \"Playing outdoor Games\"]\n",
    "List1.append(List2)\n",
    "print(List1)"
   ]
  },
  {
   "cell_type": "code",
   "execution_count": 4,
   "id": "876beaab",
   "metadata": {},
   "outputs": [
    {
     "name": "stdout",
     "output_type": "stream",
     "text": [
      "['Aishwarya', 25, 'Science']\n"
     ]
    }
   ],
   "source": [
    "# remove your location from list\n",
    "\n",
    "List=[\"Aishwarya\", 25,\"Science\",\"Airoli\"]\n",
    "List.remove(\"Airoli\")\n",
    "print(List)"
   ]
  },
  {
   "cell_type": "code",
   "execution_count": 6,
   "id": "b9b472de",
   "metadata": {},
   "outputs": [
    {
     "name": "stdout",
     "output_type": "stream",
     "text": [
      "['Aishwarya', 'Science', 'Airoli']\n",
      "['Aishwarya', 'Science', 'Airoli']\n"
     ]
    }
   ],
   "source": [
    "# remove your age from list[using 2 methods]\n",
    "\n",
    "#First method\n",
    "\n",
    "List=[\"Aishwarya\", 25,\"Science\",\"Airoli\"]\n",
    "List.remove(25)\n",
    "print(List)\n",
    "\n",
    "#Second method\n",
    "\n",
    "List=[\"Aishwarya\", 25,\"Science\",\"Airoli\"]\n",
    "List.pop(1)\n",
    "print(List)"
   ]
  },
  {
   "cell_type": "code",
   "execution_count": 7,
   "id": "ca8f4c27",
   "metadata": {},
   "outputs": [
    {
     "name": "stdout",
     "output_type": "stream",
     "text": [
      "['Aishwarya', 25, 'Science']\n"
     ]
    }
   ],
   "source": [
    "# remove last element from the list\n",
    "\n",
    "List=[\"Aishwarya\", 25,\"Science\",\"Airoli\"]\n",
    "List.pop()\n",
    "print(List)"
   ]
  },
  {
   "cell_type": "code",
   "execution_count": 8,
   "id": "2fedaa8b",
   "metadata": {},
   "outputs": [
    {
     "name": "stdout",
     "output_type": "stream",
     "text": [
      "[]\n"
     ]
    }
   ],
   "source": [
    "# remove all element from the list(empty)\n",
    "\n",
    "List=[\"Aishwarya\", 25,\"Science\",\"Airoli\"]\n",
    "List.clear()\n",
    "print(List)"
   ]
  },
  {
   "cell_type": "code",
   "execution_count": 10,
   "id": "c1a116e3",
   "metadata": {},
   "outputs": [],
   "source": [
    "# delete the list\n",
    "\n",
    "List=[\"Aishwarya\", 25,\"Science\",\"Airoli\"]\n",
    "del List"
   ]
  },
  {
   "cell_type": "code",
   "execution_count": 11,
   "id": "f1590b18",
   "metadata": {},
   "outputs": [
    {
     "name": "stdout",
     "output_type": "stream",
     "text": [
      "9\n"
     ]
    }
   ],
   "source": [
    "# create a list of prime numbers till 20 and find the length of it\n",
    "\n",
    "List=[1,2,3,5,7,11,13,17,19]\n",
    "print(len(List))"
   ]
  },
  {
   "cell_type": "code",
   "execution_count": 12,
   "id": "2d52a9da",
   "metadata": {},
   "outputs": [
    {
     "name": "stdout",
     "output_type": "stream",
     "text": [
      "[2, 5, 7, 12, 18]\n",
      "[18, 12, 7, 5, 2]\n"
     ]
    }
   ],
   "source": [
    "# create a list of 5,2,18,7,12 and print in ascending and descending order\n",
    "\n",
    "List=[5,2,18,7,12]\n",
    "List.sort()\n",
    "print(List)\n",
    "List.reverse()\n",
    "print(List)"
   ]
  },
  {
   "cell_type": "code",
   "execution_count": 13,
   "id": "47d1ccec",
   "metadata": {},
   "outputs": [
    {
     "name": "stdout",
     "output_type": "stream",
     "text": [
      "['Aishwarya', 'Gaurav', 'Fegade', 26, 29, 59]\n"
     ]
    }
   ],
   "source": [
    "# merge two list\n",
    "\n",
    "List1= [\"Aishwarya\", \"Gaurav\", \"Fegade\"]\n",
    "List2= [26, 29, 59]\n",
    "List3 = List1+List2\n",
    "print(List3)"
   ]
  },
  {
   "cell_type": "code",
   "execution_count": null,
   "id": "ee525ba9",
   "metadata": {},
   "outputs": [],
   "source": []
  },
  {
   "cell_type": "code",
   "execution_count": null,
   "id": "af27e342",
   "metadata": {},
   "outputs": [],
   "source": []
  }
 ],
 "metadata": {
  "kernelspec": {
   "display_name": "Python 3 (ipykernel)",
   "language": "python",
   "name": "python3"
  },
  "language_info": {
   "codemirror_mode": {
    "name": "ipython",
    "version": 3
   },
   "file_extension": ".py",
   "mimetype": "text/x-python",
   "name": "python",
   "nbconvert_exporter": "python",
   "pygments_lexer": "ipython3",
   "version": "3.9.7"
  }
 },
 "nbformat": 4,
 "nbformat_minor": 5
}
