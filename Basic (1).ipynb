{
 "cells": [
  {
   "cell_type": "code",
   "execution_count": 2,
   "metadata": {},
   "outputs": [
    {
     "name": "stdout",
     "output_type": "stream",
     "text": [
      "aishwarya1/10/1996\n"
     ]
    }
   ],
   "source": [
    "a=(\"aishwarya\")\n",
    "b=( \"1/10/1996\")\n",
    "print(a+b)"
   ]
  },
  {
   "cell_type": "code",
   "execution_count": 4,
   "metadata": {},
   "outputs": [
    {
     "name": "stdout",
     "output_type": "stream",
     "text": [
      "aishbadhe96@gmail.com\n"
     ]
    }
   ],
   "source": [
    "a=(\"aishbadhe\")\n",
    "b=(\"96\")\n",
    "c=(\"@gmail.com\")\n",
    "print(a+b+c)"
   ]
  },
  {
   "cell_type": "code",
   "execution_count": 7,
   "metadata": {},
   "outputs": [
    {
     "name": "stdout",
     "output_type": "stream",
     "text": [
      "Aishwarya Gaurav Fegade\n"
     ]
    }
   ],
   "source": [
    "a=(\"Aishwarya\")\n",
    "b=(\"Gaurav\")\n",
    "c=(\"Fegade\")\n",
    "print(a+\" \"+b+\" \"+c)"
   ]
  },
  {
   "cell_type": "code",
   "execution_count": 1,
   "metadata": {},
   "outputs": [
    {
     "name": "stdout",
     "output_type": "stream",
     "text": [
      "Enter the English marks=50\n",
      "Enter the Maths marks=50\n",
      "Enter the Physics marks=50\n",
      "Enter the Biology marks=50\n",
      "Enter the Chemistry marks=50\n",
      "Aishwarya got 50.0  Percentage\n"
     ]
    }
   ],
   "source": [
    "English= int(input(\"Enter the English marks=\"))\n",
    "Maths=int(input(\"Enter the Maths marks=\"))\n",
    "Physics=int(input(\"Enter the Physics marks=\"))\n",
    "Biology=int(input(\"Enter the Biology marks=\"))\n",
    "Chemistry=int(input(\"Enter the Chemistry marks=\"))\n",
    "Total_marks=500\n",
    "gain_marks =(English + Maths + Physics + Biology + Chemistry)\n",
    "percentage= (gain_marks/Total_marks) * 100\n",
    "print(\"Aishwarya got\", percentage, \" Percentage\")"
   ]
  },
  {
   "cell_type": "code",
   "execution_count": null,
   "metadata": {},
   "outputs": [],
   "source": []
  },
  {
   "cell_type": "code",
   "execution_count": null,
   "metadata": {},
   "outputs": [],
   "source": []
  },
  {
   "cell_type": "code",
   "execution_count": null,
   "metadata": {},
   "outputs": [],
   "source": []
  },
  {
   "cell_type": "code",
   "execution_count": null,
   "metadata": {},
   "outputs": [],
   "source": []
  }
 ],
 "metadata": {
  "kernelspec": {
   "display_name": "Python 3",
   "language": "python",
   "name": "python3"
  },
  "language_info": {
   "codemirror_mode": {
    "name": "ipython",
    "version": 3
   },
   "file_extension": ".py",
   "mimetype": "text/x-python",
   "name": "python",
   "nbconvert_exporter": "python",
   "pygments_lexer": "ipython3",
   "version": "3.7.4"
  }
 },
 "nbformat": 4,
 "nbformat_minor": 2
}
