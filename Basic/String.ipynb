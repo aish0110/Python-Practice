{
 "cells": [
  {
   "cell_type": "code",
   "execution_count": 1,
   "id": "353e9c80",
   "metadata": {},
   "outputs": [
    {
     "name": "stdout",
     "output_type": "stream",
     "text": [
      "This is a string in Python\n"
     ]
    }
   ],
   "source": [
    "S=\"This is a string in Python\"\n",
    "print(S)"
   ]
  },
  {
   "cell_type": "code",
   "execution_count": 2,
   "id": "34b28d5b",
   "metadata": {},
   "outputs": [
    {
     "data": {
      "text/plain": [
       "26"
      ]
     },
     "execution_count": 2,
     "metadata": {},
     "output_type": "execute_result"
    }
   ],
   "source": [
    "len(S)"
   ]
  },
  {
   "cell_type": "code",
   "execution_count": 3,
   "id": "3af8ee80",
   "metadata": {},
   "outputs": [
    {
     "name": "stdout",
     "output_type": "stream",
     "text": [
      "This is\n",
      "the first\n",
      "multi-line string.\n"
     ]
    }
   ],
   "source": [
    "S='''This is\n",
    "the first\n",
    "multi-line string.'''\n",
    "print(S)"
   ]
  },
  {
   "cell_type": "code",
   "execution_count": 4,
   "id": "540a28f5",
   "metadata": {},
   "outputs": [
    {
     "name": "stdout",
     "output_type": "stream",
     "text": [
      "Welcome to'Python TUtorial' on at NetTech\n"
     ]
    }
   ],
   "source": [
    "S=\"Welcome to'Python TUtorial' on at NetTech\"\n",
    "print(S)"
   ]
  },
  {
   "cell_type": "code",
   "execution_count": 5,
   "id": "fee3525e",
   "metadata": {},
   "outputs": [
    {
     "data": {
      "text/plain": [
       "5"
      ]
     },
     "execution_count": 5,
     "metadata": {},
     "output_type": "execute_result"
    }
   ],
   "source": [
    "greet=\"hello\"\n",
    "len(greet)"
   ]
  },
  {
   "cell_type": "code",
   "execution_count": 6,
   "id": "cf43849b",
   "metadata": {},
   "outputs": [
    {
     "data": {
      "text/plain": [
       "'h'"
      ]
     },
     "execution_count": 6,
     "metadata": {},
     "output_type": "execute_result"
    }
   ],
   "source": [
    "Greet=\"hello\"\n",
    "Greet[0]"
   ]
  },
  {
   "cell_type": "code",
   "execution_count": 7,
   "id": "a6521675",
   "metadata": {},
   "outputs": [
    {
     "data": {
      "text/plain": [
       "'l'"
      ]
     },
     "execution_count": 7,
     "metadata": {},
     "output_type": "execute_result"
    }
   ],
   "source": [
    "g=\"hello\"\n",
    "g[-2]"
   ]
  },
  {
   "cell_type": "code",
   "execution_count": 8,
   "id": "21702b6f",
   "metadata": {},
   "outputs": [
    {
     "data": {
      "text/plain": [
       "str"
      ]
     },
     "execution_count": 8,
     "metadata": {},
     "output_type": "execute_result"
    }
   ],
   "source": [
    "g=\"hello\"\n",
    "type(g)"
   ]
  },
  {
   "cell_type": "code",
   "execution_count": 9,
   "id": "db58be75",
   "metadata": {},
   "outputs": [
    {
     "data": {
      "text/plain": [
       "'a'"
      ]
     },
     "execution_count": 9,
     "metadata": {},
     "output_type": "execute_result"
    }
   ],
   "source": [
    "S=\"Welcome to'Python TUtorial' on at NetTech\"\n",
    "S[-10]"
   ]
  },
  {
   "cell_type": "code",
   "execution_count": 10,
   "id": "5a7b8456",
   "metadata": {},
   "outputs": [
    {
     "data": {
      "text/plain": [
       "'elco'"
      ]
     },
     "execution_count": 10,
     "metadata": {},
     "output_type": "execute_result"
    }
   ],
   "source": [
    "S=\"Welcome to'Python TUtorial' on at NetTech\"\n",
    "S[1:5]"
   ]
  },
  {
   "cell_type": "code",
   "execution_count": 11,
   "id": "e44a7405",
   "metadata": {},
   "outputs": [
    {
     "data": {
      "text/plain": [
       "'Welcome'"
      ]
     },
     "execution_count": 11,
     "metadata": {},
     "output_type": "execute_result"
    }
   ],
   "source": [
    "S=\"Welcome to'Python TUtorial' on at NetTech\"\n",
    "S[0:7]"
   ]
  },
  {
   "cell_type": "code",
   "execution_count": 12,
   "id": "65e03a46",
   "metadata": {},
   "outputs": [
    {
     "data": {
      "text/plain": [
       "'ome t'"
      ]
     },
     "execution_count": 12,
     "metadata": {},
     "output_type": "execute_result"
    }
   ],
   "source": [
    "S[4:9]"
   ]
  },
  {
   "cell_type": "code",
   "execution_count": 13,
   "id": "9ebb13d6",
   "metadata": {},
   "outputs": [
    {
     "data": {
      "text/plain": [
       "''"
      ]
     },
     "execution_count": 13,
     "metadata": {},
     "output_type": "execute_result"
    }
   ],
   "source": [
    "S=\"Welcome to'Python TUtorial' on at NetTech\"\n",
    "S[-1:1]"
   ]
  },
  {
   "cell_type": "code",
   "execution_count": 14,
   "id": "905b30a1",
   "metadata": {},
   "outputs": [
    {
     "data": {
      "text/plain": [
       "'ecm '"
      ]
     },
     "execution_count": 14,
     "metadata": {},
     "output_type": "execute_result"
    }
   ],
   "source": [
    "S=\"Welcome to'Python TUtorial' on at NetTech\"\n",
    "S[1:8:2]"
   ]
  },
  {
   "cell_type": "code",
   "execution_count": 15,
   "id": "5ba3e70f",
   "metadata": {},
   "outputs": [
    {
     "data": {
      "text/plain": [
       "'h'"
      ]
     },
     "execution_count": 15,
     "metadata": {},
     "output_type": "execute_result"
    }
   ],
   "source": [
    "S=\"Welcome to'Python TUtorial' on at NetTech\"\n",
    "S[-1]"
   ]
  },
  {
   "cell_type": "code",
   "execution_count": 16,
   "id": "94bec7b5",
   "metadata": {},
   "outputs": [
    {
     "data": {
      "text/plain": [
       "41"
      ]
     },
     "execution_count": 16,
     "metadata": {},
     "output_type": "execute_result"
    }
   ],
   "source": [
    "S= \"Welcome to'Python Tutorial' on at NetTech\"\n",
    "len(S)"
   ]
  },
  {
   "cell_type": "code",
   "execution_count": 17,
   "id": "38771f44",
   "metadata": {},
   "outputs": [
    {
     "data": {
      "text/plain": [
       "\"hceTteN ta no 'lairotuT nohtyP'ot emocleW\""
      ]
     },
     "execution_count": 17,
     "metadata": {},
     "output_type": "execute_result"
    }
   ],
   "source": [
    "S= \"Welcome to'Python Tutorial' on at NetTech\"\n",
    "S[-1::-1]"
   ]
  },
  {
   "cell_type": "code",
   "execution_count": 18,
   "id": "cadd5797",
   "metadata": {},
   "outputs": [
    {
     "data": {
      "text/plain": [
       "'etN'"
      ]
     },
     "execution_count": 18,
     "metadata": {},
     "output_type": "execute_result"
    }
   ],
   "source": [
    "S= \"Welcome to'Python Tutorial' on at NetTech\"\n",
    "S[-3:-8:-2]"
   ]
  },
  {
   "cell_type": "code",
   "execution_count": 19,
   "id": "3b618b8b",
   "metadata": {},
   "outputs": [
    {
     "data": {
      "text/plain": [
       "'my name is aishwarya'"
      ]
     },
     "execution_count": 19,
     "metadata": {},
     "output_type": "execute_result"
    }
   ],
   "source": [
    "a=\"My Name Is Aishwarya\"\n",
    "a.lower()"
   ]
  },
  {
   "cell_type": "code",
   "execution_count": 20,
   "id": "84093e53",
   "metadata": {},
   "outputs": [
    {
     "data": {
      "text/plain": [
       "'MY NAME IS AISHWARYA'"
      ]
     },
     "execution_count": 20,
     "metadata": {},
     "output_type": "execute_result"
    }
   ],
   "source": [
    "a=\"My Name Is Aishwarya\"\n",
    "a.upper()"
   ]
  },
  {
   "cell_type": "code",
   "execution_count": 21,
   "id": "6a2accf2",
   "metadata": {},
   "outputs": [
    {
     "name": "stdout",
     "output_type": "stream",
     "text": [
      "My Name Is Aishwarya\n",
      " I am from Airoli\n"
     ]
    }
   ],
   "source": [
    "print(\"My Name Is Aishwarya\\n I am from Airoli\")\n"
   ]
  },
  {
   "cell_type": "code",
   "execution_count": 22,
   "id": "76c6fa58",
   "metadata": {},
   "outputs": [
    {
     "data": {
      "text/plain": [
       "'My Name Is Aishwarya'"
      ]
     },
     "execution_count": 22,
     "metadata": {},
     "output_type": "execute_result"
    }
   ],
   "source": [
    "a=\"My Name Is Aishwarya\"\n",
    "a.title()"
   ]
  },
  {
   "cell_type": "code",
   "execution_count": 23,
   "id": "e33f0990",
   "metadata": {},
   "outputs": [
    {
     "data": {
      "text/plain": [
       "'My name is aishwarya'"
      ]
     },
     "execution_count": 23,
     "metadata": {},
     "output_type": "execute_result"
    }
   ],
   "source": [
    "a=\"My Name Is Aishwarya\"\n",
    "a.capitalize()"
   ]
  },
  {
   "cell_type": "code",
   "execution_count": null,
   "id": "2b6a91fd",
   "metadata": {},
   "outputs": [],
   "source": []
  }
 ],
 "metadata": {
  "kernelspec": {
   "display_name": "Python 3 (ipykernel)",
   "language": "python",
   "name": "python3"
  },
  "language_info": {
   "codemirror_mode": {
    "name": "ipython",
    "version": 3
   },
   "file_extension": ".py",
   "mimetype": "text/x-python",
   "name": "python",
   "nbconvert_exporter": "python",
   "pygments_lexer": "ipython3",
   "version": "3.9.7"
  }
 },
 "nbformat": 4,
 "nbformat_minor": 5
}
