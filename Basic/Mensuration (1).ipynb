{
 "cells": [
  {
   "cell_type": "code",
   "execution_count": 3,
   "id": "cbc02ecc",
   "metadata": {},
   "outputs": [
    {
     "name": "stdout",
     "output_type": "stream",
     "text": [
      "Enter the value of Length=10\n",
      "Enter the value of Breadth=5\n",
      "Area_of_Rectangle = 50\n"
     ]
    }
   ],
   "source": [
    "L=int(input(\"Enter the value of Length=\"))\n",
    "B=int(input(\"Enter the value of Breadth=\"))\n",
    "area_of_Rectangle=(L*B)\n",
    "print(\"Area_of_Rectangle\",\"=\",L*B,)"
   ]
  },
  {
   "cell_type": "code",
   "execution_count": 4,
   "id": "e60c819f",
   "metadata": {},
   "outputs": [
    {
     "name": "stdout",
     "output_type": "stream",
     "text": [
      "Area_of_Square = 529\n"
     ]
    }
   ],
   "source": [
    "A=23\n",
    "area_of_Square=(A*A)\n",
    "print(\"Area_of_Square\",\"=\",(A*A))"
   ]
  },
  {
   "cell_type": "code",
   "execution_count": 5,
   "id": "dff0dfd4",
   "metadata": {},
   "outputs": [
    {
     "name": "stdout",
     "output_type": "stream",
     "text": [
      "Area_of_Circle = 153.86\n"
     ]
    }
   ],
   "source": [
    "pi=3.14\n",
    "R=7\n",
    "area_of_Circle=(pi*R*R)\n",
    "print(\"Area_of_Circle\",\"=\",(pi*R*R))"
   ]
  },
  {
   "cell_type": "code",
   "execution_count": 8,
   "id": "f63c67e4",
   "metadata": {},
   "outputs": [
    {
     "name": "stdout",
     "output_type": "stream",
     "text": [
      "Enter the value of Length=12.8\n",
      "Enter the value of Breadth=6.8\n",
      "Perimeter_of_Rectangle = 39.2\n"
     ]
    }
   ],
   "source": [
    "L=float(input(\"Enter the value of Length=\"))\n",
    "B=float(input(\"Enter the value of Breadth=\"))\n",
    "Perimeter_of_Rectangle=(2*L+2*B)\n",
    "print(\"Perimeter_of_Rectangle\",\"=\",(2*L+2*B))"
   ]
  },
  {
   "cell_type": "code",
   "execution_count": 9,
   "id": "8faae869",
   "metadata": {},
   "outputs": [
    {
     "name": "stdout",
     "output_type": "stream",
     "text": [
      "Perimeter_of_Square = 420\n"
     ]
    }
   ],
   "source": [
    "S=105\n",
    "Perimeter_of_Square=(4*S)\n",
    "print(\"Perimeter_of_Square\",\"=\",(4*S))"
   ]
  },
  {
   "cell_type": "code",
   "execution_count": 10,
   "id": "7e44cc65",
   "metadata": {},
   "outputs": [
    {
     "name": "stdout",
     "output_type": "stream",
     "text": [
      "Area_of_Circumferance = 87.92\n"
     ]
    }
   ],
   "source": [
    "pi=3.14\n",
    "R=14\n",
    "area_of_Circumferance=(2*pi*R)\n",
    "print(\"Area_of_Circumferance\",\"=\",(2*pi*R))"
   ]
  },
  {
   "cell_type": "code",
   "execution_count": 12,
   "id": "b02a0b60",
   "metadata": {},
   "outputs": [
    {
     "name": "stdout",
     "output_type": "stream",
     "text": [
      "Volume of Cube = 3375\n"
     ]
    }
   ],
   "source": [
    "L=15\n",
    "Volume_of_Cube=(L*L*L)\n",
    "print(\"Volume of Cube\",\"=\",(L*L*L))"
   ]
  },
  {
   "cell_type": "code",
   "execution_count": 13,
   "id": "6bea8289",
   "metadata": {},
   "outputs": [
    {
     "name": "stdout",
     "output_type": "stream",
     "text": [
      "Volume of Cuboid = 2100\n"
     ]
    }
   ],
   "source": [
    "L=14\n",
    "B=10\n",
    "H=15\n",
    "Volume_of_Cuboid=(L*B*H)\n",
    "print(\"Volume of Cuboid\",\"=\",(L*B*H))"
   ]
  },
  {
   "cell_type": "code",
   "execution_count": 14,
   "id": "c809442a",
   "metadata": {},
   "outputs": [
    {
     "name": "stdout",
     "output_type": "stream",
     "text": [
      "Enter the value of Length=25\n",
      "Surface_Area_of_Cube = 3750\n"
     ]
    }
   ],
   "source": [
    "L=int(input(\"Enter the value of Length=\"))\n",
    "Surface_Area_of_Cube=(6*L*L)\n",
    "print(\"Surface_Area_of_Cube\",\"=\",(6*L*L))"
   ]
  },
  {
   "cell_type": "code",
   "execution_count": null,
   "id": "737f73fc",
   "metadata": {},
   "outputs": [],
   "source": []
  }
 ],
 "metadata": {
  "kernelspec": {
   "display_name": "Python 3 (ipykernel)",
   "language": "python",
   "name": "python3"
  },
  "language_info": {
   "codemirror_mode": {
    "name": "ipython",
    "version": 3
   },
   "file_extension": ".py",
   "mimetype": "text/x-python",
   "name": "python",
   "nbconvert_exporter": "python",
   "pygments_lexer": "ipython3",
   "version": "3.9.7"
  }
 },
 "nbformat": 4,
 "nbformat_minor": 5
}
