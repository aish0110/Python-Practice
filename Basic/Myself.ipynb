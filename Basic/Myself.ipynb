{
 "cells": [
  {
   "cell_type": "code",
   "execution_count": null,
   "id": "6c83ed1f",
   "metadata": {},
   "outputs": [
    {
     "name": "stdout",
     "output_type": "stream",
     "text": [
      "MYSELF\n",
      "1.My Name is Aishwarya Gaurav Fegade\n",
      "3.I am from  🏠 New Mumbai\n",
      "4.I completed a Master Degree in 🎓 Physics\n",
      "5.I love to play 🥎 Baseball on Ground\n",
      "6.I was a baseball player in my 🏫School and collage life\n"
     ]
    }
   ],
   "source": [
    "print(\"MYSELF\")\n",
    "a=input(\"1.My Name is \" )\n",
    "b=input(\"3.I am from  \\U0001f3e0 \")\n",
    "c=input(\"4.I completed a Master Degree in \\U0001f393 \")\n",
    "d=input(\"5.I love to play \\U0001f94e \")\n",
    "e=input(\"6.I was a baseball player in my \\U0001f3eb\")\n",
    "f=input(\"7.Professionslly i am a 'NATIONAL' player in \\U0001f3c6\")\n",
    "g=input(\"8.my passion is\")\n",
    "print(\"---MY SELF---\")\n",
    "print(\"Good Morning\")\n",
    "print(\"\\tMy name is %s.\"%(a), end=\"\")\n",
    "print(\"I am from \\U0001f3e0 %s.\"%(b), end=\"\")\n",
    "print(\"I completed a master degree in \\U0001f393 %s.\"%(c), end=\"\")\n",
    "print(\"\\n\")\n",
    "print(\"\\tI love to play \\U0001f94e %s.\"%(d), end=\"\")\n",
    "print(\" I was a baseball player in my  \\U0001f3eb %s.\"%(e), end=\"\")\n",
    "print(\"Professionsly i am a'NATINAL' player in  \\U0001f3c6 %s.\"%(f), end=\"\")\n",
    "print(\"My passion is %s.\"%(g), end=\"\")"
   ]
  },
  {
   "cell_type": "code",
   "execution_count": null,
   "id": "7693e0eb",
   "metadata": {},
   "outputs": [],
   "source": []
  }
 ],
 "metadata": {
  "kernelspec": {
   "display_name": "Python 3 (ipykernel)",
   "language": "python",
   "name": "python3"
  },
  "language_info": {
   "codemirror_mode": {
    "name": "ipython",
    "version": 3
   },
   "file_extension": ".py",
   "mimetype": "text/x-python",
   "name": "python",
   "nbconvert_exporter": "python",
   "pygments_lexer": "ipython3",
   "version": "3.9.7"
  }
 },
 "nbformat": 4,
 "nbformat_minor": 5
}
