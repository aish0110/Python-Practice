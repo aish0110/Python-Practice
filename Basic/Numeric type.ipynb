{
 "cells": [
  {
   "cell_type": "code",
   "execution_count": null,
   "id": "6506e41f",
   "metadata": {},
   "outputs": [],
   "source": [
    "#Display roll no.\n",
    "roll_no= 33\n",
    "print(\"Roll number is:\", roll_no)\n",
    "print(type(roll_no))"
   ]
  },
  {
   "cell_type": "code",
   "execution_count": null,
   "id": "9bc91777",
   "metadata": {},
   "outputs": [],
   "source": [
    "#Create integer using int() class\n",
    "id = (25)\n",
    "print(id)\n",
    "print(type(id))"
   ]
  },
  {
   "cell_type": "code",
   "execution_count": null,
   "id": "8ba70b52",
   "metadata": {},
   "outputs": [],
   "source": [
    "# Data types\n",
    "x=-9999\n",
    "y=99.99\n",
    "print(type(x))\n",
    "print(type(y))"
   ]
  },
  {
   "cell_type": "code",
   "execution_count": null,
   "id": "103edd99",
   "metadata": {},
   "outputs": [],
   "source": [
    "#Complex form\n",
    "complex(1,-2)"
   ]
  },
  {
   "cell_type": "code",
   "execution_count": null,
   "id": "90013dc6",
   "metadata": {},
   "outputs": [],
   "source": [
    "x=1\n",
    "y=2.8\n",
    "z=1j\n",
    "#Convert from int to float:\n",
    "a=float(x)\n",
    "#convert from float to int:\n",
    "b=int(y)\n",
    "#convert from int to complex:\n",
    "c=complex(x)\n",
    "print(a)\n",
    "print(b)\n",
    "print(c)\n",
    "print(type(a))\n",
    "print(type(b))\n",
    "print(type(c))"
   ]
  },
  {
   "cell_type": "code",
   "execution_count": null,
   "id": "0c4c0b8e",
   "metadata": {},
   "outputs": [],
   "source": [
    "#Binary form\n",
    "i=20\n",
    "print(\"In binary form::\", bin (i))"
   ]
  },
  {
   "cell_type": "code",
   "execution_count": null,
   "id": "41518330",
   "metadata": {},
   "outputs": [],
   "source": [
    "#Octal form\n",
    "i=20\n",
    "print(\"In octal form::\", oct(i))"
   ]
  },
  {
   "cell_type": "code",
   "execution_count": null,
   "id": "e58e7eee",
   "metadata": {},
   "outputs": [],
   "source": [
    "#Hexadecimal form\n",
    "i=20\n",
    "print (\"In hexadecimal form::\",hex(i))"
   ]
  },
  {
   "cell_type": "code",
   "execution_count": null,
   "id": "bc3a31aa",
   "metadata": {},
   "outputs": [],
   "source": [
    "x=99\n",
    "y=1.111\n",
    "#Data in int and float\n",
    "print(type(x))\n",
    "print(type(y))\n",
    "#Addition\n",
    "z=x+y\n",
    "#Type after addition\n",
    "print(type(z))"
   ]
  },
  {
   "cell_type": "code",
   "execution_count": null,
   "id": "5208274f",
   "metadata": {},
   "outputs": [],
   "source": [
    "int(123.654)"
   ]
  },
  {
   "cell_type": "code",
   "execution_count": null,
   "id": "c2f74150",
   "metadata": {},
   "outputs": [],
   "source": [
    "#Concatenating int and str types\n",
    "i=99\n",
    "s=\"apple\"\n",
    "print(s+str(i))"
   ]
  },
  {
   "cell_type": "code",
   "execution_count": null,
   "id": "d04ac446",
   "metadata": {},
   "outputs": [],
   "source": [
    "#Prints a random value from the list\n",
    "import random\n",
    "List= [1,2,3,4,5,6]\n",
    "print(random.choice(List))"
   ]
  },
  {
   "cell_type": "code",
   "execution_count": null,
   "id": "db56bcc5",
   "metadata": {},
   "outputs": [],
   "source": [
    "print(\"A random number from range is : \", end=\"\")\n",
    "print(random.randrange(20,50,3))"
   ]
  },
  {
   "cell_type": "code",
   "execution_count": null,
   "id": "137946e8",
   "metadata": {},
   "outputs": [],
   "source": [
    "#Using choice to generate a random number from a given list of numbers.\n",
    "import random\n",
    "print(\"A random number from range is : \", end=\"\")\n",
    "print(random.choice([1,4,8,10,3]))"
   ]
  },
  {
   "cell_type": "code",
   "execution_count": null,
   "id": "d2c56244",
   "metadata": {},
   "outputs": [],
   "source": []
  }
 ],
 "metadata": {
  "kernelspec": {
   "display_name": "Python 3 (ipykernel)",
   "language": "python",
   "name": "python3"
  },
  "language_info": {
   "codemirror_mode": {
    "name": "ipython",
    "version": 3
   },
   "file_extension": ".py",
   "mimetype": "text/x-python",
   "name": "python",
   "nbconvert_exporter": "python",
   "pygments_lexer": "ipython3",
   "version": "3.9.7"
  }
 },
 "nbformat": 4,
 "nbformat_minor": 5
}
